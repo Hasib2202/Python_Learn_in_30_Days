{
  "nbformat": 4,
  "nbformat_minor": 0,
  "metadata": {
    "colab": {
      "provenance": []
    },
    "kernelspec": {
      "name": "python3",
      "display_name": "Python 3"
    },
    "language_info": {
      "name": "python"
    }
  },
  "cells": [
    {
      "cell_type": "code",
      "execution_count": 1,
      "metadata": {
        "colab": {
          "base_uri": "https://localhost:8080/"
        },
        "id": "CoUJBTU9XjQE",
        "outputId": "a3125c7c-8813-4dfc-8106-8fae20c1e66b"
      },
      "outputs": [
        {
          "output_type": "stream",
          "name": "stdout",
          "text": [
            "1\n",
            "2\n",
            "3\n",
            "4\n",
            "5\n"
          ]
        }
      ],
      "source": [
        "# Python While Loops\n",
        "\n",
        "i = 1\n",
        "while i < 6:\n",
        "  print(i)\n",
        "  i += 1"
      ]
    },
    {
      "cell_type": "code",
      "source": [
        "# Break Statement\n",
        "\n",
        "i = 1\n",
        "while i < 6:\n",
        "  print(i)\n",
        "  if(i == 4):\n",
        "    break\n",
        "  i += 1\n",
        ""
      ],
      "metadata": {
        "colab": {
          "base_uri": "https://localhost:8080/"
        },
        "id": "6Ue1erYac15r",
        "outputId": "9c9c4d05-0de2-4079-ce7a-ff43fff7c720"
      },
      "execution_count": 2,
      "outputs": [
        {
          "output_type": "stream",
          "name": "stdout",
          "text": [
            "1\n",
            "2\n",
            "3\n",
            "4\n"
          ]
        }
      ]
    },
    {
      "cell_type": "code",
      "source": [
        "# Continue Statement\n",
        "\n",
        "i = 0\n",
        "while i < 6:\n",
        "  i += 1\n",
        "  if i == 3:\n",
        "    continue\n",
        "  print(i)"
      ],
      "metadata": {
        "colab": {
          "base_uri": "https://localhost:8080/"
        },
        "id": "a8oJPD2fdxdv",
        "outputId": "25cd07b0-9622-49ec-c604-ecbdcd97999e"
      },
      "execution_count": 5,
      "outputs": [
        {
          "output_type": "stream",
          "name": "stdout",
          "text": [
            "1\n",
            "2\n",
            "4\n",
            "5\n",
            "6\n"
          ]
        }
      ]
    },
    {
      "cell_type": "code",
      "source": [
        "# The Else Statement\n",
        "\n",
        "i = 1\n",
        "while i < 6:\n",
        "  print(i)\n",
        "  i += 1\n",
        "else:\n",
        "  print(\"i is no longer less than 6\")"
      ],
      "metadata": {
        "colab": {
          "base_uri": "https://localhost:8080/"
        },
        "id": "6GGsmCnvd9Ve",
        "outputId": "5e939a48-a66c-42c4-c4df-8a8b01186fbd"
      },
      "execution_count": 6,
      "outputs": [
        {
          "output_type": "stream",
          "name": "stdout",
          "text": [
            "1\n",
            "2\n",
            "3\n",
            "4\n",
            "5\n",
            "i is no longer less than 6\n"
          ]
        }
      ]
    },
    {
      "cell_type": "code",
      "source": [
        "# Python For Loops\n",
        "\n",
        "cars = [\"Ford\", \"Volvo\", \"BMW\"]\n",
        "for x in cars:\n",
        "  print(x)"
      ],
      "metadata": {
        "colab": {
          "base_uri": "https://localhost:8080/"
        },
        "id": "6W8yMoBSfBn9",
        "outputId": "90a5a48b-d30d-4491-c297-0ece9c9ec2d0"
      },
      "execution_count": 7,
      "outputs": [
        {
          "output_type": "stream",
          "name": "stdout",
          "text": [
            "Ford\n",
            "Volvo\n",
            "BMW\n"
          ]
        }
      ]
    },
    {
      "cell_type": "code",
      "source": [
        "# Looping Through String\n",
        "\n",
        "for x in \"cars\":\n",
        "  print(x)"
      ],
      "metadata": {
        "colab": {
          "base_uri": "https://localhost:8080/"
        },
        "id": "2XCEmLyvfUEA",
        "outputId": "8ead3fbc-286f-4d67-8dff-ae9a65e3237c"
      },
      "execution_count": 8,
      "outputs": [
        {
          "output_type": "stream",
          "name": "stdout",
          "text": [
            "c\n",
            "a\n",
            "r\n",
            "s\n"
          ]
        }
      ]
    },
    {
      "cell_type": "code",
      "source": [
        "# The Break Statement\n",
        "\n",
        "cars = [\"Ford\", \"Volvo\", \"BMW\"]\n",
        "for x in cars:\n",
        "  print(x)\n",
        "  if x == \"Volvo\":\n",
        "    break"
      ],
      "metadata": {
        "colab": {
          "base_uri": "https://localhost:8080/"
        },
        "id": "tYGg5iqWfdOg",
        "outputId": "cff56ce2-38af-47bb-bc53-add8760cd531"
      },
      "execution_count": 9,
      "outputs": [
        {
          "output_type": "stream",
          "name": "stdout",
          "text": [
            "Ford\n",
            "Volvo\n"
          ]
        }
      ]
    },
    {
      "cell_type": "code",
      "source": [
        "# Exit the loop when x is \"Volvo\", but this the break comes before the print:\n",
        "\n",
        "cars  = [\"Ford\", \"Volvo\", \"BMW\"]\n",
        "for x in cars:\n",
        "  if x == \"Volvo\":\n",
        "    break\n",
        "  print(x)"
      ],
      "metadata": {
        "colab": {
          "base_uri": "https://localhost:8080/"
        },
        "id": "K2lcsepHfl4W",
        "outputId": "17f3f53c-f807-42b8-c34d-f7205bda1de0"
      },
      "execution_count": 10,
      "outputs": [
        {
          "output_type": "stream",
          "name": "stdout",
          "text": [
            "Ford\n"
          ]
        }
      ]
    },
    {
      "cell_type": "code",
      "source": [
        "# The Continue Statement\n",
        "\n",
        "cars = [\"Ford\", \"Volvo\", \"BMW\"]\n",
        "for x in cars:\n",
        "  if x == \"Volvo\":\n",
        "    continue\n",
        "  print(x)"
      ],
      "metadata": {
        "colab": {
          "base_uri": "https://localhost:8080/"
        },
        "id": "5xdpXTSWgEZJ",
        "outputId": "55689d11-817f-4a9f-fe48-2a072035f712"
      },
      "execution_count": 11,
      "outputs": [
        {
          "output_type": "stream",
          "name": "stdout",
          "text": [
            "Ford\n",
            "BMW\n"
          ]
        }
      ]
    },
    {
      "cell_type": "code",
      "source": [
        "# The range() Function\n",
        "\n",
        "for x in range(6):\n",
        "  print(x)\n",
        "\n",
        "print(\"-\" * 10)\n",
        "for x in range(2, 6):\n",
        "  print(x)\n",
        "print(\"-\" * 10)\n",
        "for x in range(2, 30, 3):\n",
        "  print(x)\n",
        "print(\"-\" * 10)\n"
      ],
      "metadata": {
        "colab": {
          "base_uri": "https://localhost:8080/"
        },
        "id": "Hl3HcJ0ogRAj",
        "outputId": "b87f7368-c4be-4199-c1db-a4ecbfdf5fc4"
      },
      "execution_count": 15,
      "outputs": [
        {
          "output_type": "stream",
          "name": "stdout",
          "text": [
            "0\n",
            "1\n",
            "2\n",
            "3\n",
            "4\n",
            "5\n",
            "----------\n",
            "2\n",
            "3\n",
            "4\n",
            "5\n",
            "----------\n",
            "2\n",
            "5\n",
            "8\n",
            "11\n",
            "14\n",
            "17\n",
            "20\n",
            "23\n",
            "26\n",
            "29\n",
            "----------\n"
          ]
        }
      ]
    },
    {
      "cell_type": "code",
      "source": [
        "# Else in For loop\n",
        "\n",
        "for x in range(6):\n",
        "  print(x)\n",
        "else:\n",
        "  print(\"Finally finished!\")"
      ],
      "metadata": {
        "colab": {
          "base_uri": "https://localhost:8080/"
        },
        "id": "yQglEESegcV_",
        "outputId": "cd804c26-5e58-4763-cb4a-9bec5e1c51c6"
      },
      "execution_count": 16,
      "outputs": [
        {
          "output_type": "stream",
          "name": "stdout",
          "text": [
            "0\n",
            "1\n",
            "2\n",
            "3\n",
            "4\n",
            "5\n",
            "Finally finished!\n"
          ]
        }
      ]
    },
    {
      "cell_type": "code",
      "source": [
        "for x in range(5):\n",
        "  print(x)\n",
        "  if x == 3:\n",
        "    break\n",
        "else:\n",
        "  print(\"Finally finished!\")"
      ],
      "metadata": {
        "colab": {
          "base_uri": "https://localhost:8080/"
        },
        "id": "PjQ_pNlDhnNb",
        "outputId": "b055e0e7-cf3e-4b91-ebd1-ca37740d6a48"
      },
      "execution_count": 18,
      "outputs": [
        {
          "output_type": "stream",
          "name": "stdout",
          "text": [
            "0\n",
            "1\n",
            "2\n",
            "3\n"
          ]
        }
      ]
    },
    {
      "cell_type": "code",
      "source": [
        "# Nested Loops\n",
        "\n",
        "cars = [\"Ford\", \"Volvo\", \"BMW\"]\n",
        "colors = [\"Red\", \"White\", \"Blue\"]\n",
        "\n",
        "for x in cars:\n",
        "  for y in colors:\n",
        "    print(x, y)\n"
      ],
      "metadata": {
        "colab": {
          "base_uri": "https://localhost:8080/"
        },
        "id": "lsooQM5liLLh",
        "outputId": "8b7be0c1-bbb4-44e7-91b9-2ea81fb556c8"
      },
      "execution_count": 19,
      "outputs": [
        {
          "output_type": "stream",
          "name": "stdout",
          "text": [
            "Ford Red\n",
            "Ford White\n",
            "Ford Blue\n",
            "Volvo Red\n",
            "Volvo White\n",
            "Volvo Blue\n",
            "BMW Red\n",
            "BMW White\n",
            "BMW Blue\n"
          ]
        }
      ]
    },
    {
      "cell_type": "code",
      "source": [
        "for x in [0, 1, 2]:\n",
        "  pass"
      ],
      "metadata": {
        "id": "LyjV4nN8iita"
      },
      "execution_count": 20,
      "outputs": []
    },
    {
      "cell_type": "code",
      "source": [],
      "metadata": {
        "id": "-djBnsSOirPd"
      },
      "execution_count": null,
      "outputs": []
    }
  ]
}