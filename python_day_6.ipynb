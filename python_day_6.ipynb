{
  "nbformat": 4,
  "nbformat_minor": 0,
  "metadata": {
    "colab": {
      "provenance": []
    },
    "kernelspec": {
      "name": "python3",
      "display_name": "Python 3"
    },
    "language_info": {
      "name": "python"
    }
  },
  "cells": [
    {
      "cell_type": "code",
      "execution_count": 1,
      "metadata": {
        "colab": {
          "base_uri": "https://localhost:8080/"
        },
        "id": "mx0RYLVc9jrw",
        "outputId": "058d42db-af6d-4c99-d513-23e8f6efdb90"
      },
      "outputs": [
        {
          "output_type": "stream",
          "name": "stdout",
          "text": [
            "('bmw', 'ford', 'supra')\n"
          ]
        }
      ],
      "source": [
        "# Python Tuples\n",
        "\n",
        "cars = (\"bmw\", \"ford\", \"supra\")\n",
        "print(cars)"
      ]
    },
    {
      "cell_type": "code",
      "source": [
        "# Tuples are collection which is ordered and unchangable\n",
        "# Tuples are written with round brackets\n",
        "\n",
        "cars = (\"bmw\", \"ford\", \"supra\")\n",
        "print(cars)"
      ],
      "metadata": {
        "colab": {
          "base_uri": "https://localhost:8080/"
        },
        "id": "gtXVsUIl95Ob",
        "outputId": "5fcf1029-49ab-43d3-acc0-e777828390dc"
      },
      "execution_count": 2,
      "outputs": [
        {
          "output_type": "stream",
          "name": "stdout",
          "text": [
            "('bmw', 'ford', 'supra')\n"
          ]
        }
      ]
    },
    {
      "cell_type": "code",
      "source": [
        "# Tuple items are ordered, unchangable, and allow dupliccate values.\n",
        "# Tuple items are indexed, the first item has index [0], the second item has index [1] etc.\n",
        "\n",
        "# Ordered\n",
        "# When we say that tuples are ordered, it means that the items have a defined order, and that order will not change.\n",
        "\n",
        "# Unchangable\n",
        "# Tuples are unchangable, meaning that we cannot change, add or remove items after the tuple has been created.\n",
        "\n",
        "# Allow Duplicates\n",
        "# Since tuples are indexed, they can have items with the same value:\n",
        "\n",
        "cars = (\"bmw\", \"ford\", \"supra\", \"supra\")\n",
        "print(cars)"
      ],
      "metadata": {
        "colab": {
          "base_uri": "https://localhost:8080/"
        },
        "id": "DptFLA9x-Mme",
        "outputId": "eeedcef9-2f3f-4f4f-bce4-2f0af492765a"
      },
      "execution_count": 3,
      "outputs": [
        {
          "output_type": "stream",
          "name": "stdout",
          "text": [
            "('bmw', 'ford', 'supra', 'supra')\n"
          ]
        }
      ]
    },
    {
      "cell_type": "code",
      "source": [
        "print(len(cars))"
      ],
      "metadata": {
        "colab": {
          "base_uri": "https://localhost:8080/"
        },
        "id": "zz6u4MuL-u_N",
        "outputId": "a53e6a5b-51df-4847-8ef1-334f36a240a7"
      },
      "execution_count": 5,
      "outputs": [
        {
          "output_type": "stream",
          "name": "stdout",
          "text": [
            "4\n"
          ]
        }
      ]
    },
    {
      "cell_type": "code",
      "source": [
        "# Create Tuple With One Item\n",
        "\n",
        "# To create a tuple with only one item, you have to add a comma after the item, otherwise Python will not recognize it as a tuple.\n",
        "\n",
        "cars = (\"bmw\",)\n",
        "print(type(cars))\n",
        "\n",
        "# Not a tuple\n",
        "cars = (\"bmw\")\n",
        "print(type(cars))"
      ],
      "metadata": {
        "colab": {
          "base_uri": "https://localhost:8080/"
        },
        "id": "ZsNAUTzK-xnu",
        "outputId": "67c97193-abb1-44e6-a77c-cafee3e9ca6a"
      },
      "execution_count": 6,
      "outputs": [
        {
          "output_type": "stream",
          "name": "stdout",
          "text": [
            "<class 'tuple'>\n",
            "<class 'str'>\n"
          ]
        }
      ]
    },
    {
      "cell_type": "code",
      "source": [
        "# Tuple Items Data Types\n",
        "\n",
        "# Tuple items can be of any data type:\n",
        "\n",
        "tuple1 = (\"bmw\", \"ford\", \"supra\")\n",
        "tuple2 = (1, 5, 7, 9, 3)\n",
        "tuple3 = (True, False, False)\n",
        "\n",
        "print(tuple1,tuple2,tuple3)"
      ],
      "metadata": {
        "colab": {
          "base_uri": "https://localhost:8080/"
        },
        "id": "4zKkADBC_FDy",
        "outputId": "dca6d891-4256-495c-a85b-de23fe0acd7b"
      },
      "execution_count": 7,
      "outputs": [
        {
          "output_type": "stream",
          "name": "stdout",
          "text": [
            "('bmw', 'ford', 'supra') (1, 5, 7, 9, 3) (True, False, False)\n"
          ]
        }
      ]
    },
    {
      "cell_type": "code",
      "source": [
        "# A tuple can contain differnt data types\n",
        "\n",
        "tuple1 = (\"abc\", 34, True, 40, \"male\")\n",
        "print(tuple1)\n",
        "\n",
        "# To determine how many items a tuple has, use the len() function\n",
        "\n",
        "print(len(tuple1))\n",
        "\n",
        "# type of tuple1\n",
        "\n",
        "print(type(tuple1))"
      ],
      "metadata": {
        "colab": {
          "base_uri": "https://localhost:8080/"
        },
        "id": "JwSVplpX_U9Q",
        "outputId": "43e507b4-f764-43d7-f691-962b15d205b4"
      },
      "execution_count": 10,
      "outputs": [
        {
          "output_type": "stream",
          "name": "stdout",
          "text": [
            "('abc', 34, True, 40, 'male')\n",
            "5\n",
            "<class 'tuple'>\n"
          ]
        }
      ]
    },
    {
      "cell_type": "code",
      "source": [
        "# The typle() Constructor\n",
        "\n",
        "# It is also possible to use the tuple() constructor to make a tuple.\n",
        "\n",
        "cars = tuple((\"bmw\", \"ford\", \"supra\"))\n",
        "print(cars)"
      ],
      "metadata": {
        "colab": {
          "base_uri": "https://localhost:8080/"
        },
        "id": "0Zxks0ky_d0k",
        "outputId": "d12aa07b-0cfa-4c2e-b98f-70df86ae9488"
      },
      "execution_count": 11,
      "outputs": [
        {
          "output_type": "stream",
          "name": "stdout",
          "text": [
            "('bmw', 'ford', 'supra')\n"
          ]
        }
      ]
    },
    {
      "cell_type": "code",
      "source": [
        "# Access Tuple Items\n",
        "\n",
        "cars = (\"bmw\", \"ford\", \"supra\")\n",
        "print(cars[1])"
      ],
      "metadata": {
        "colab": {
          "base_uri": "https://localhost:8080/"
        },
        "id": "Auicfzo9__Ts",
        "outputId": "a02a2292-8a0a-4d2c-aecc-f1ff1b8f009b"
      },
      "execution_count": 12,
      "outputs": [
        {
          "output_type": "stream",
          "name": "stdout",
          "text": [
            "ford\n"
          ]
        }
      ]
    },
    {
      "cell_type": "code",
      "source": [
        "# Negative indexting\n",
        "# Negative indexing means start from the end.\n",
        "\n",
        "# -1 refers to the last item, -2 refers to the second last item etc.\n",
        "\n",
        "cars = (\"bmw\", \"ford\", \"supra\")\n",
        "print(cars[-1])"
      ],
      "metadata": {
        "colab": {
          "base_uri": "https://localhost:8080/"
        },
        "id": "JMtwMBm0AFNA",
        "outputId": "14a7a38a-e891-43df-ff1b-937fb224dd04"
      },
      "execution_count": 13,
      "outputs": [
        {
          "output_type": "stream",
          "name": "stdout",
          "text": [
            "supra\n"
          ]
        }
      ]
    },
    {
      "cell_type": "code",
      "source": [
        "# Range of Indexes\n",
        "# start index(included) and end index (not included)\n",
        "\n",
        "flowers = (\"rose\", \"lily\", \"lotus\", \"sunflower\", \"jasmine\")\n",
        "print(flowers[2:5])"
      ],
      "metadata": {
        "colab": {
          "base_uri": "https://localhost:8080/"
        },
        "id": "zrZdVX27AdO8",
        "outputId": "03eae130-de4d-444f-adf6-aba6d401c6cd"
      },
      "execution_count": 14,
      "outputs": [
        {
          "output_type": "stream",
          "name": "stdout",
          "text": [
            "('lotus', 'sunflower', 'jasmine')\n"
          ]
        }
      ]
    },
    {
      "cell_type": "code",
      "source": [
        "# By not mentioned the start value, the range start with the first value\n",
        "\n",
        "flowers = (\"rose\", \"lily\", \"lotus\", \"sunflower\", \"jasmine\")\n",
        "print(flowers[:4])"
      ],
      "metadata": {
        "colab": {
          "base_uri": "https://localhost:8080/"
        },
        "id": "Gk54X3clA3i_",
        "outputId": "05ba945a-5b43-4153-aa2c-8a9b9d045db8"
      },
      "execution_count": 15,
      "outputs": [
        {
          "output_type": "stream",
          "name": "stdout",
          "text": [
            "('rose', 'lily', 'lotus', 'sunflower')\n"
          ]
        }
      ]
    },
    {
      "cell_type": "code",
      "source": [
        "# By leaving out the end value, the range will go on to the end of the tuple:\n",
        "\n",
        "flowers = (\"rose\", \"lily\", \"lotus\", \"sunflower\", \"jasmine\")\n",
        "print(flowers[2:])"
      ],
      "metadata": {
        "colab": {
          "base_uri": "https://localhost:8080/"
        },
        "id": "HkjHUuSMBSa1",
        "outputId": "5cb14908-7b0f-467a-ae40-95cda3526fd1"
      },
      "execution_count": 16,
      "outputs": [
        {
          "output_type": "stream",
          "name": "stdout",
          "text": [
            "('lotus', 'sunflower', 'jasmine')\n"
          ]
        }
      ]
    },
    {
      "cell_type": "code",
      "source": [
        "# Range of negative indexing\n",
        "\n",
        "flowers = (\"rose\", \"lily\", \"lotus\", \"sunflower\", \"jasmine\")\n",
        "print(flowers[-4:-1])"
      ],
      "metadata": {
        "colab": {
          "base_uri": "https://localhost:8080/"
        },
        "id": "EIETe5bfBZzf",
        "outputId": "dc8e2ba0-88be-4a90-d7cf-189ec304e492"
      },
      "execution_count": 17,
      "outputs": [
        {
          "output_type": "stream",
          "name": "stdout",
          "text": [
            "('lily', 'lotus', 'sunflower')\n"
          ]
        }
      ]
    },
    {
      "cell_type": "code",
      "source": [
        "# Check if item exits\n",
        "\n",
        "flowers = (\"rose\", \"lily\", \"lotus\", \"sunflower\", \"jasmine\")\n",
        "if \"rose\" in flowers:\n",
        "    print(\"Yes, 'rose' is in the flowers tuple\")"
      ],
      "metadata": {
        "colab": {
          "base_uri": "https://localhost:8080/"
        },
        "id": "QHIfTJ02BiQ8",
        "outputId": "ba7c024d-39b4-475b-9fa0-c1c1fc1ab5a9"
      },
      "execution_count": 18,
      "outputs": [
        {
          "output_type": "stream",
          "name": "stdout",
          "text": [
            "Yes, 'rose' is in the flowers tuple\n"
          ]
        }
      ]
    },
    {
      "cell_type": "code",
      "source": [
        "# Update tuples\n",
        "\n",
        "# Tuples are unchangable, meaning that you cannot change, add, or remove items once the tuple is created.\n",
        "\n",
        "# But there are some workarounds."
      ],
      "metadata": {
        "id": "PITShkPHBov-"
      },
      "execution_count": null,
      "outputs": []
    },
    {
      "cell_type": "code",
      "source": [
        "# The way is you can convert the tuple into a list and then change the list and then convert the list back to the tuple\n",
        "\n",
        "flowers = (\"rose\", \"lily\", \"lotus\", \"sunflower\", \"jasmine\")\n",
        "y = list(flowers)\n",
        "y[1] = \"daisy\"\n",
        "flowers = tuple(y)\n",
        "\n",
        "print(flowers)"
      ],
      "metadata": {
        "colab": {
          "base_uri": "https://localhost:8080/"
        },
        "id": "PxhudR65B7bc",
        "outputId": "132e05e3-a6fe-46f8-be5a-4b0dc3df8ebc"
      },
      "execution_count": 19,
      "outputs": [
        {
          "output_type": "stream",
          "name": "stdout",
          "text": [
            "('rose', 'daisy', 'lotus', 'sunflower', 'jasmine')\n"
          ]
        }
      ]
    },
    {
      "cell_type": "code",
      "source": [
        "# Add Items\n",
        "\n",
        "# Since tuples are immutable, they do not have a built-in append() method, but there are other ways to add\n",
        "\n",
        "# 1. Convert into a list: Just like the workaround for changing a tuple, you can convert it into a list, add your item(s), and convert it back into a tuple.\n",
        "\n",
        "cars = (\"bmw\", \"ford\", \"supra\")\n",
        "y = list(cars)\n",
        "y.append(\"audi\")\n",
        "cars = tuple(y)\n",
        "\n",
        "print(cars)"
      ],
      "metadata": {
        "colab": {
          "base_uri": "https://localhost:8080/"
        },
        "id": "aoA3N3ZaCRA-",
        "outputId": "ab228d1e-2399-4d15-da32-836b0bdbf934"
      },
      "execution_count": 20,
      "outputs": [
        {
          "output_type": "stream",
          "name": "stdout",
          "text": [
            "('bmw', 'ford', 'supra', 'audi')\n"
          ]
        }
      ]
    },
    {
      "cell_type": "code",
      "source": [
        "# Add tuple with tuple\n",
        "\n",
        "cars = (\"bmw\", \"ford\", \"supra\")\n",
        "more_cars = (\"audi\", \"volvo\")\n",
        "cars += more_cars\n",
        "print(cars)"
      ],
      "metadata": {
        "colab": {
          "base_uri": "https://localhost:8080/"
        },
        "id": "2cfe0oqsCiYs",
        "outputId": "7282ea99-e870-4b18-f4c3-a4b53069abe2"
      },
      "execution_count": 21,
      "outputs": [
        {
          "output_type": "stream",
          "name": "stdout",
          "text": [
            "('bmw', 'ford', 'supra', 'audi', 'volvo')\n"
          ]
        }
      ]
    },
    {
      "cell_type": "code",
      "source": [
        "# Remove items\n",
        "\n",
        "# Note: You cannot remove items in a tuple.\n",
        "\n",
        "# Tuples are unchangable, so you cannot remove items from it, but you can use the same workaround as we used for changing and adding tuple\n",
        "\n",
        "cars = (\"bmw\", \"ford\", \"supra\")\n",
        "y = list(cars)\n",
        "y.remove(\"ford\")\n",
        "cars = tuple(y)\n",
        "\n",
        "print(cars)"
      ],
      "metadata": {
        "colab": {
          "base_uri": "https://localhost:8080/"
        },
        "id": "MwFyqsUBCvfo",
        "outputId": "149bcd25-0fa2-4d32-f5ec-f63ccbe7cdd8"
      },
      "execution_count": 22,
      "outputs": [
        {
          "output_type": "stream",
          "name": "stdout",
          "text": [
            "('bmw', 'supra')\n"
          ]
        }
      ]
    },
    {
      "cell_type": "code",
      "source": [
        "# or we can delete the tuple completely\n",
        "\n",
        "cars = (\"bmw\", \"ford\", \"supra\")\n",
        "del cars\n",
        "print(cars) #this will raise an error because the tuple no longer exists"
      ],
      "metadata": {
        "colab": {
          "base_uri": "https://localhost:8080/",
          "height": 176
        },
        "id": "mQzLss_jC83v",
        "outputId": "469fb0ed-719d-4f0c-ac16-09ef0e9ef5b1"
      },
      "execution_count": 23,
      "outputs": [
        {
          "output_type": "error",
          "ename": "NameError",
          "evalue": "name 'cars' is not defined",
          "traceback": [
            "\u001b[0;31m---------------------------------------------------------------------------\u001b[0m",
            "\u001b[0;31mNameError\u001b[0m                                 Traceback (most recent call last)",
            "\u001b[0;32m<ipython-input-23-4f5ad8c96cd7>\u001b[0m in \u001b[0;36m<cell line: 5>\u001b[0;34m()\u001b[0m\n\u001b[1;32m      3\u001b[0m \u001b[0mcars\u001b[0m \u001b[0;34m=\u001b[0m \u001b[0;34m(\u001b[0m\u001b[0;34m\"bmw\"\u001b[0m\u001b[0;34m,\u001b[0m \u001b[0;34m\"ford\"\u001b[0m\u001b[0;34m,\u001b[0m \u001b[0;34m\"supra\"\u001b[0m\u001b[0;34m)\u001b[0m\u001b[0;34m\u001b[0m\u001b[0;34m\u001b[0m\u001b[0m\n\u001b[1;32m      4\u001b[0m \u001b[0;32mdel\u001b[0m \u001b[0mcars\u001b[0m\u001b[0;34m\u001b[0m\u001b[0;34m\u001b[0m\u001b[0m\n\u001b[0;32m----> 5\u001b[0;31m \u001b[0mprint\u001b[0m\u001b[0;34m(\u001b[0m\u001b[0mcars\u001b[0m\u001b[0;34m)\u001b[0m \u001b[0;31m#this will raise an error because the tuple no longer exists\u001b[0m\u001b[0;34m\u001b[0m\u001b[0;34m\u001b[0m\u001b[0m\n\u001b[0m",
            "\u001b[0;31mNameError\u001b[0m: name 'cars' is not defined"
          ]
        }
      ]
    },
    {
      "cell_type": "code",
      "source": [],
      "metadata": {
        "id": "lBFHfvUYDG0X"
      },
      "execution_count": null,
      "outputs": []
    }
  ]
}