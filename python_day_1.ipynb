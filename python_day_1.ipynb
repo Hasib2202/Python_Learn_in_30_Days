{
  "nbformat": 4,
  "nbformat_minor": 0,
  "metadata": {
    "colab": {
      "provenance": []
    },
    "kernelspec": {
      "name": "python3",
      "display_name": "Python 3"
    },
    "language_info": {
      "name": "python"
    }
  },
  "cells": [
    {
      "cell_type": "markdown",
      "source": [
        "Python Intro,\n",
        "Python Get Started,\n",
        "\n",
        "\n",
        "\n",
        "\n",
        "\n"
      ],
      "metadata": {
        "id": "ddrsLgeSAkcY"
      }
    },
    {
      "cell_type": "markdown",
      "source": [
        "Python Syntax"
      ],
      "metadata": {
        "id": "VWlPWsstBBTN"
      }
    },
    {
      "cell_type": "code",
      "source": [
        "print(\"Hello, World!\")"
      ],
      "metadata": {
        "id": "l78yt6qkAtvP"
      },
      "execution_count": null,
      "outputs": []
    },
    {
      "cell_type": "code",
      "source": [
        "if 5 > 2:\n",
        "  print(\"Five is greater than two!\")\n",
        "  # there is no error here"
      ],
      "metadata": {
        "id": "4buAC-I4BKxr"
      },
      "execution_count": null,
      "outputs": []
    },
    {
      "cell_type": "code",
      "source": [
        "if 5 > 2:\n",
        "print(\"Five is greater than two!\")\n",
        "# it causes error"
      ],
      "metadata": {
        "id": "xJ0PqjpDBSSx"
      },
      "execution_count": null,
      "outputs": []
    },
    {
      "cell_type": "code",
      "source": [
        "if 5 > 2:\n",
        " print(\"Five is greater than two!\")\n",
        "if 5 > 2:\n",
        "        print(\"Five is greater than two!\")\n",
        "# no error"
      ],
      "metadata": {
        "id": "aG76eZvhBX9x"
      },
      "execution_count": null,
      "outputs": []
    },
    {
      "cell_type": "code",
      "source": [
        "if 5 > 2:\n",
        " print(\"Five is greater than two!\")\n",
        "        print(\"Five is greater than two!\")\n",
        "# it causes error"
      ],
      "metadata": {
        "id": "9cJM52S0BnyP"
      },
      "execution_count": null,
      "outputs": []
    },
    {
      "cell_type": "code",
      "source": [
        "# the number of space is up to the programmer\n",
        "# most common space is 4\n",
        "# but use at least one space"
      ],
      "metadata": {
        "id": "TH5ik3_bBrpq"
      },
      "execution_count": null,
      "outputs": []
    },
    {
      "cell_type": "code",
      "source": [
        "if 5 > 2:\n",
        " print(\"Five is greater than two!\")\n",
        "        print(\"Five is greater than two\")\n",
        "# it causes error"
      ],
      "metadata": {
        "id": "JTo_uiZGCAcF"
      },
      "execution_count": null,
      "outputs": []
    },
    {
      "cell_type": "markdown",
      "source": [
        "Python comments"
      ],
      "metadata": {
        "id": "vuvsN6NTCIxl"
      }
    },
    {
      "cell_type": "code",
      "source": [
        "# this is a commetnts\n",
        "\"\"\"\n",
        "this is a comment\n",
        "written in\n",
        "more than just one line\n",
        "\"\"\""
      ],
      "metadata": {
        "id": "7DJWf6KlCGrF"
      },
      "execution_count": null,
      "outputs": []
    },
    {
      "cell_type": "markdown",
      "source": [
        "Python Variables\n"
      ],
      "metadata": {
        "id": "T5lYVbRmCTC7"
      }
    },
    {
      "cell_type": "code",
      "source": [
        "x = 5\n",
        "y = \"John\"\n",
        "print(x)\n",
        "print(y)\n",
        "\n",
        "# variable do not need to be declared with any particular type\n",
        "# can be change the type after they have been set\n",
        "\n",
        "x = 4       # x is of type int\n",
        "x = \"Sally\" # x is now of type str\n",
        "print(x)"
      ],
      "metadata": {
        "id": "uH0YgEI9CV-Z"
      },
      "execution_count": null,
      "outputs": []
    },
    {
      "cell_type": "markdown",
      "source": [
        "Casting"
      ],
      "metadata": {
        "id": "Z_vvhab6C4ku"
      }
    },
    {
      "cell_type": "code",
      "source": [
        "x = str(3)    # x will be '3'\n",
        "y = int(3)    # y will be 3\n",
        "z = float(3)  # z will be 3.0"
      ],
      "metadata": {
        "id": "szRgGcUnC6PG"
      },
      "execution_count": null,
      "outputs": []
    },
    {
      "cell_type": "markdown",
      "source": [
        "Type"
      ],
      "metadata": {
        "id": "sDrSyrwFDGDj"
      }
    },
    {
      "cell_type": "code",
      "source": [
        "x = 5\n",
        "y = \"Hasib\"\n",
        "print(type(x))\n",
        "print(type(y))"
      ],
      "metadata": {
        "id": "NVrNXFvSDHG-"
      },
      "execution_count": null,
      "outputs": []
    },
    {
      "cell_type": "markdown",
      "source": [
        "Single / Double Qoutes"
      ],
      "metadata": {
        "id": "YVq7SbyyDPbh"
      }
    },
    {
      "cell_type": "code",
      "source": [
        "x = \"Hasib\"\n",
        "# is the same as\n",
        "x = 'Hasib'"
      ],
      "metadata": {
        "id": "KzZo9UFbDVR3"
      },
      "execution_count": null,
      "outputs": []
    },
    {
      "cell_type": "markdown",
      "source": [
        "Case Sensitive"
      ],
      "metadata": {
        "id": "ZYz2WF_2Dc7v"
      }
    },
    {
      "cell_type": "code",
      "source": [
        "a = 4\n",
        "A = \"Sally\"\n",
        "# A will not overwrite a"
      ],
      "metadata": {
        "id": "oRpPKei6Da8C"
      },
      "execution_count": null,
      "outputs": []
    },
    {
      "cell_type": "markdown",
      "source": [
        "Variable Names"
      ],
      "metadata": {
        "id": "uszT3RzfDmlH"
      }
    },
    {
      "cell_type": "code",
      "source": [
        "# Legal variable names\n",
        "myvar = \"John\"\n",
        "my_var = \"John\"\n",
        "_my_var = \"John\"\n",
        "myVar = \"John\"\n",
        "MYVAR = \"John\"\n",
        "myvar2 = \"John\"\n",
        "\n",
        "# Illegal variable names\n",
        "# 2myvar = \"John\"\n",
        "# my-var = \"John\"\n",
        "# my var = \"John\"\n",
        "\n",
        "# variable names are case-sensative\n",
        "\n",
        "# camel case\n",
        "myVariableName = \"Hasib\"\n",
        "# Pascal case\n",
        "MyVariableName = \"Hasib\"\n",
        "# snake case\n",
        "my_variable_name = \"Hasib\"\n",
        "\n",
        "print(my_variable_name)"
      ],
      "metadata": {
        "colab": {
          "base_uri": "https://localhost:8080/"
        },
        "id": "nYaoHCMDDo5v",
        "outputId": "d9154f19-28d8-4ed0-c63e-81f14309a45c"
      },
      "execution_count": 3,
      "outputs": [
        {
          "output_type": "stream",
          "name": "stdout",
          "text": [
            "Hasib\n"
          ]
        }
      ]
    },
    {
      "cell_type": "markdown",
      "source": [
        "Many values to Multiple Variables"
      ],
      "metadata": {
        "id": "IlsN6kxbEggl"
      }
    },
    {
      "cell_type": "code",
      "source": [
        "# in one line we can assign multiple values in multiple variables\n",
        "x, y, z = \"mom\", \"dad\", \"sister\"\n",
        "print(x)\n",
        "print(y)\n",
        "print(z)"
      ],
      "metadata": {
        "colab": {
          "base_uri": "https://localhost:8080/"
        },
        "id": "XbR00fh3Dxtu",
        "outputId": "bd074864-776d-456e-a85c-425392624b05"
      },
      "execution_count": 4,
      "outputs": [
        {
          "output_type": "stream",
          "name": "stdout",
          "text": [
            "mom\n",
            "dad\n",
            "sister\n"
          ]
        }
      ]
    },
    {
      "cell_type": "code",
      "source": [
        "# one value to multiple variables\n",
        "x = y = z = \"hasib\"\n",
        "print(x)\n",
        "print(y)\n",
        "print(z)"
      ],
      "metadata": {
        "colab": {
          "base_uri": "https://localhost:8080/"
        },
        "id": "3gZr3vBYE2Oe",
        "outputId": "1141aed3-9ee4-4bb9-cf84-116a0bd52354"
      },
      "execution_count": 5,
      "outputs": [
        {
          "output_type": "stream",
          "name": "stdout",
          "text": [
            "hasib\n",
            "hasib\n",
            "hasib\n"
          ]
        }
      ]
    },
    {
      "cell_type": "code",
      "source": [
        "# Unplacking a Collection\n",
        "cars = [\"bmw\", \"audi\", \"toyota\"]\n",
        "a, b, c = cars\n",
        "print(a)\n",
        "print(b)\n",
        "print(c)\n",
        "#"
      ],
      "metadata": {
        "colab": {
          "base_uri": "https://localhost:8080/"
        },
        "id": "4d7lNhGdFDmb",
        "outputId": "8dcc2f11-07ac-4733-8666-286b80f9aeda"
      },
      "execution_count": 6,
      "outputs": [
        {
          "output_type": "stream",
          "name": "stdout",
          "text": [
            "bmw\n",
            "audi\n",
            "toyota\n"
          ]
        }
      ]
    },
    {
      "cell_type": "code",
      "source": [
        "#Output variables\n",
        "x = \"Python is awesome\"\n",
        "print(x)"
      ],
      "metadata": {
        "colab": {
          "base_uri": "https://localhost:8080/"
        },
        "id": "EfJizRMsFf4F",
        "outputId": "7215a787-6f94-411c-8a45-198f6e8f1743"
      },
      "execution_count": 7,
      "outputs": [
        {
          "output_type": "stream",
          "name": "stdout",
          "text": [
            "Python is awesome\n"
          ]
        }
      ]
    },
    {
      "cell_type": "code",
      "source": [
        "x = \"Python\"\n",
        "y = \"is\"\n",
        "z = \"awesome\"\n",
        "print(x, y, z)\n",
        "print(x)\n",
        "print(y)\n",
        "print(z)"
      ],
      "metadata": {
        "colab": {
          "base_uri": "https://localhost:8080/"
        },
        "id": "ffOeAywNFnWP",
        "outputId": "c7d7bd1d-36e5-4e02-b0ef-f198e0eb004b"
      },
      "execution_count": 9,
      "outputs": [
        {
          "output_type": "stream",
          "name": "stdout",
          "text": [
            "Python is awesome\n",
            "Python\n",
            "is\n",
            "awesome\n"
          ]
        }
      ]
    },
    {
      "cell_type": "code",
      "source": [
        "# + operator to  output multiple variables\n",
        "x = \"Python \"\n",
        "y = \"is \"\n",
        "z = \"awesome\"\n",
        "print(x + y + z)\n",
        "\n",
        "# note that the space is added, otherwise the output is without space"
      ],
      "metadata": {
        "colab": {
          "base_uri": "https://localhost:8080/"
        },
        "id": "y2VeElADFsQA",
        "outputId": "352d9f40-e2fe-449b-8236-bbc52ab0677e"
      },
      "execution_count": 11,
      "outputs": [
        {
          "output_type": "stream",
          "name": "stdout",
          "text": [
            "Python is awesome\n"
          ]
        }
      ]
    },
    {
      "cell_type": "code",
      "source": [
        "x = 6\n",
        "y = 7\n",
        "print(x + y)"
      ],
      "metadata": {
        "colab": {
          "base_uri": "https://localhost:8080/"
        },
        "id": "XrKTkdkvF4J6",
        "outputId": "b32e4ba2-e602-4ebd-cc8a-0018fc07ae5a"
      },
      "execution_count": 12,
      "outputs": [
        {
          "output_type": "stream",
          "name": "stdout",
          "text": [
            "13\n"
          ]
        }
      ]
    },
    {
      "cell_type": "code",
      "source": [
        "x = 5\n",
        "y = \"John\"\n",
        "# print(x + y) error\n",
        "print(x, y)"
      ],
      "metadata": {
        "colab": {
          "base_uri": "https://localhost:8080/"
        },
        "id": "QRXqSz4JGS_-",
        "outputId": "4f7eb64d-92e1-447b-fa40-b7b35dbd8c8e"
      },
      "execution_count": 15,
      "outputs": [
        {
          "output_type": "stream",
          "name": "stdout",
          "text": [
            "5 John\n"
          ]
        }
      ]
    },
    {
      "cell_type": "code",
      "source": [
        "# Global Variables\n",
        "# Variable that is created outside of a function is called a global variable\n",
        "x = \"awesome\"\n",
        "\n",
        "def myfunc():\n",
        "  print(\"Hasib is \"+ x)\n",
        "\n",
        "myfunc()\n",
        "#"
      ],
      "metadata": {
        "colab": {
          "base_uri": "https://localhost:8080/"
        },
        "id": "EaQhujjiGVKk",
        "outputId": "55114166-0ab1-4f06-affc-e2dc651a4544"
      },
      "execution_count": 17,
      "outputs": [
        {
          "output_type": "stream",
          "name": "stdout",
          "text": [
            "Hasib is awesome\n"
          ]
        }
      ]
    },
    {
      "cell_type": "code",
      "source": [
        "\n",
        "x = \"joss\"\n",
        "\n",
        "def myfunc():\n",
        "  x = \"lol\"\n",
        "  print(\"Hasib is \" + x)\n",
        "\n",
        "myfunc()\n",
        "\n",
        "print(\"Hasib is \" + x)"
      ],
      "metadata": {
        "colab": {
          "base_uri": "https://localhost:8080/"
        },
        "id": "YOX4cT5xG5qr",
        "outputId": "7270b0ee-c0b4-4371-b5b1-4661e19ca916"
      },
      "execution_count": 22,
      "outputs": [
        {
          "output_type": "stream",
          "name": "stdout",
          "text": [
            "Hasib is lol\n",
            "Hasib is joss\n"
          ]
        }
      ]
    },
    {
      "cell_type": "code",
      "source": [
        "# global keywords\n",
        "def myfunc():\n",
        "  global x\n",
        "  x = \"bad boy\"\n",
        "  print(\"Hasib is \" + x)\n",
        "\n",
        "myfunc()\n",
        "\n",
        "print(\"Hasib is \" + x)\n",
        "\n",
        "# If you use the global keyword, the variable belongs to the global scope:"
      ],
      "metadata": {
        "colab": {
          "base_uri": "https://localhost:8080/"
        },
        "id": "pSCIDpHRHeT6",
        "outputId": "df4a0cdc-fd20-40fb-bcdf-2cedb52c1b4f"
      },
      "execution_count": 23,
      "outputs": [
        {
          "output_type": "stream",
          "name": "stdout",
          "text": [
            "Hasib is bad boy\n",
            "Hasib is bad boy\n"
          ]
        }
      ]
    },
    {
      "cell_type": "code",
      "source": [
        "x = \"awesome\"\n",
        "\n",
        "def myfunc():\n",
        "  global x\n",
        "  x = \"fantastic\"\n",
        "  # print(\"Python is \" + x)\n",
        "\n",
        "myfunc()\n",
        "\n",
        "print(\"Python is \" + x)\n",
        "\n",
        "# to change the golbal variables value inside a function"
      ],
      "metadata": {
        "colab": {
          "base_uri": "https://localhost:8080/"
        },
        "id": "gAxI-NqKIDuU",
        "outputId": "b8a45c0e-9f2d-4261-8ed4-e3b46841e5e6"
      },
      "execution_count": 25,
      "outputs": [
        {
          "output_type": "stream",
          "name": "stdout",
          "text": [
            "Python is fantastic\n",
            "Python is fantastic\n"
          ]
        }
      ]
    },
    {
      "cell_type": "code",
      "source": [],
      "metadata": {
        "id": "2_kEjOaJISfS"
      },
      "execution_count": null,
      "outputs": []
    }
  ]
}