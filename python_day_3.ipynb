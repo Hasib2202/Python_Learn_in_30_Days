{
  "nbformat": 4,
  "nbformat_minor": 0,
  "metadata": {
    "colab": {
      "provenance": []
    },
    "kernelspec": {
      "name": "python3",
      "display_name": "Python 3"
    },
    "language_info": {
      "name": "python"
    }
  },
  "cells": [
    {
      "cell_type": "markdown",
      "source": [
        "Python string format"
      ],
      "metadata": {
        "id": "eHpxKRhL9u46"
      }
    },
    {
      "cell_type": "code",
      "execution_count": 3,
      "metadata": {
        "colab": {
          "base_uri": "https://localhost:8080/"
        },
        "id": "-Dse9_0i9oJL",
        "outputId": "dc714a1d-2218-4635-fe49-1fe70bf2f625"
      },
      "outputs": [
        {
          "output_type": "stream",
          "name": "stdout",
          "text": [
            "My name is hasib\n"
          ]
        }
      ],
      "source": [
        "name = \"hasib\"\n",
        "res = \"My name is \"+name\n",
        "print(res)\n",
        "\n",
        "# but we can not do this to concate number and string\n",
        "\n",
        "age = 34\n",
        "res = \"My age is \"+age\n",
        "print(res)\n",
        "\n",
        "# it shows the error\n"
      ]
    },
    {
      "cell_type": "code",
      "source": [
        "# to overcome this python use f tring\n",
        "\n",
        "name = \"hasib\"\n",
        "age = 34\n",
        "res = f\"My name is {name} and my age is {age}\"\n",
        "print(res)"
      ],
      "metadata": {
        "colab": {
          "base_uri": "https://localhost:8080/"
        },
        "id": "XQi10q6C99R5",
        "outputId": "de0866a0-770f-4314-f6c7-508f438c0785"
      },
      "execution_count": 4,
      "outputs": [
        {
          "output_type": "stream",
          "name": "stdout",
          "text": [
            "My name is hasib and my age is 34\n"
          ]
        }
      ]
    },
    {
      "cell_type": "code",
      "source": [
        "# placeholder and modifiers\n",
        "\n",
        "name = \"hasib\"\n",
        "age = 34\n",
        "res =  \"My name is {} and age is {}\".format(name,age)\n",
        "print(res)"
      ],
      "metadata": {
        "colab": {
          "base_uri": "https://localhost:8080/"
        },
        "id": "IeIbCgOK-hNu",
        "outputId": "7c7664d1-0ac1-43d8-8a49-a401d98011b9"
      },
      "execution_count": 6,
      "outputs": [
        {
          "output_type": "stream",
          "name": "stdout",
          "text": [
            "My name is hasib and age is 34\n"
          ]
        }
      ]
    },
    {
      "cell_type": "code",
      "source": [
        "# display the price with 2.... decimals:\n",
        "\n",
        "price = 59\n",
        "res = \"The price is {:.2f}\".format(price)\n",
        "print(res)"
      ],
      "metadata": {
        "colab": {
          "base_uri": "https://localhost:8080/"
        },
        "id": "mj5c6hKS-uOU",
        "outputId": "0f38f46a-b48b-493e-e4ec-0a0f37157ab3"
      },
      "execution_count": 8,
      "outputs": [
        {
          "output_type": "stream",
          "name": "stdout",
          "text": [
            "The price is 59.000\n"
          ]
        }
      ]
    },
    {
      "cell_type": "code",
      "source": [
        "# placeholder with the math operation\n",
        "\n",
        "price = 59\n",
        "res = \"The price is {:.2f}\".format(price*3)\n",
        "print(res)"
      ],
      "metadata": {
        "colab": {
          "base_uri": "https://localhost:8080/"
        },
        "id": "VWGSJWJ1_FHd",
        "outputId": "a6869dd8-457b-4d15-c4d4-a3e20bc83ea7"
      },
      "execution_count": 9,
      "outputs": [
        {
          "output_type": "stream",
          "name": "stdout",
          "text": [
            "The price is 177.00\n"
          ]
        }
      ]
    },
    {
      "cell_type": "code",
      "source": [
        "# Escape character \\\"\\\"\n",
        "\n",
        "txt = \"We are the so-called \\\"Vikings\\\" from the north and we are \\\"powerfull\\\".\"\n",
        "print(txt)\n"
      ],
      "metadata": {
        "colab": {
          "base_uri": "https://localhost:8080/"
        },
        "id": "FbzrOKZU_Uf1",
        "outputId": "0ea5b32a-68a0-4fbd-d0ed-d0ef5ef1dc03"
      },
      "execution_count": 11,
      "outputs": [
        {
          "output_type": "stream",
          "name": "stdout",
          "text": [
            "We are the so-called \"Vikings\" from the north and we are \"powerfull\".\n"
          ]
        }
      ]
    },
    {
      "cell_type": "code",
      "source": [
        "# other escape character\n",
        "\n",
        "# \\'\tSingle Quote\n",
        "# \\\\\tBackslash\n",
        "# \\n\tNew Line\n",
        "# \\r\tCarriage Return\n",
        "# \\t\tTab\n",
        "# \\b\tBackspace\n",
        "# \\f\tForm Feed\n",
        "# \\ooo\tOctal value\n",
        "# \\xhh\tHex value\n",
        "\n",
        "txt = \"Hello\\nWorld!\"\n",
        "print(txt)\n",
        "\n",
        "txt1 = \"This will insert one \\\\ (backslash).\"\n",
        "print(txt1)\n",
        "\n",
        "txt2 = \"Hello\\rWorld!\"\n",
        "print(txt2)\n",
        "\n",
        "txt3 = \"Hello\\tWorld!\"\n",
        "print(txt3)\n",
        "\n",
        "txt4 = \"Hello \\bWorld!\"\n",
        "print(txt4)\n",
        "\n",
        "txt5 = \"\\110\\145\\154\\154\\157\"\n",
        "print(txt5)\n",
        "\n",
        "txt6 = \"\\x48\\x65\\x6c\\x6c\\x6f\"\n",
        "print(txt6)\n",
        "\n",
        "txt7 = \"Hlw\\fhasib\"\n",
        "print(txt7)"
      ],
      "metadata": {
        "colab": {
          "base_uri": "https://localhost:8080/"
        },
        "id": "n6nb14am_ob1",
        "outputId": "89e0f5fd-fcfb-4b5c-b1b6-542654905399"
      },
      "execution_count": 16,
      "outputs": [
        {
          "output_type": "stream",
          "name": "stdout",
          "text": [
            "Hello\n",
            "World!\n",
            "This will insert one \\ (backslash).\n",
            "Hello\rWorld!\n",
            "Hello\tWorld!\n",
            "Hello \bWorld!\n",
            "Hello\n",
            "Hello\n",
            "Hlw\fhasib\n"
          ]
        }
      ]
    },
    {
      "cell_type": "code",
      "source": [
        "# string method\n",
        "txt = \"hasib\"\n",
        "print(txt.capitalize())\n",
        "print(txt.casefold())\n",
        "print(txt.center(20))\n",
        "print(txt.count(\"a\"))\n",
        "print(txt.encode())\n",
        "print(txt.endswith(\"b\"))\n",
        "print(txt.expandtabs)\n",
        "print(txt.find(\"a\"))\n",
        "print(txt.format)\n",
        "print(txt.format_map)\n",
        "print(txt.index(\"a\"))\n",
        "print(txt.isalnum())\n",
        "print(txt.isalpha())\n",
        "print(txt.isascii())\n",
        "print(txt.isdecimal())\n",
        "print(txt.isdigit())\n",
        "print(txt.isidentifier())\n",
        "print(txt.islower())\n",
        "print(txt.isnumeric())\n",
        "print(txt.isprintable())\n",
        "print(txt.isspace())\n",
        "print(txt.istitle())\n",
        "print(txt.isupper())\n",
        "print()\n",
        "print(txt.join(\"hasib\"))\n",
        "print(txt.ljust(20))\n",
        "print(txt.lower())\n",
        "print(txt.lstrip())\n",
        "print(txt.maketrans)\n",
        "print(txt.partition(\"a\"))\n",
        "print(txt.replace(\"a\",\"b\"))\n",
        "print(txt.rfind(\"a\"))\n",
        "print(txt.rindex(\"a\"))\n",
        "print(txt.rjust(20))\n",
        "print(txt.rpartition(\"a\"))\n",
        "print(txt.rsplit())\n",
        "print(txt.rstrip())\n",
        "print(txt.split())\n",
        "print(txt.splitlines())\n",
        "print(txt.startswith(\"h\"))\n",
        "print(txt.strip())\n",
        "print(txt.swapcase())\n",
        "print(txt.title())\n",
        "print(txt.translate)\n",
        "print(txt.upper())\n",
        "print(txt.zfill(20))"
      ],
      "metadata": {
        "colab": {
          "base_uri": "https://localhost:8080/"
        },
        "id": "JmJyiaU7AR_e",
        "outputId": "5cdfa477-363d-4b8d-fdbf-a27f13c1e6d1"
      },
      "execution_count": 27,
      "outputs": [
        {
          "output_type": "stream",
          "name": "stdout",
          "text": [
            "Hasib\n",
            "hasib\n",
            "       hasib        \n",
            "1\n",
            "b'hasib'\n",
            "True\n",
            "<built-in method expandtabs of str object at 0x7ce63fded7f0>\n",
            "1\n",
            "<built-in method format of str object at 0x7ce63fded7f0>\n",
            "<built-in method format_map of str object at 0x7ce63fded7f0>\n",
            "1\n",
            "True\n",
            "True\n",
            "True\n",
            "False\n",
            "False\n",
            "True\n",
            "True\n",
            "False\n",
            "True\n",
            "False\n",
            "False\n",
            "False\n",
            "\n",
            "hhasibahasibshasibihasibb\n",
            "hasib               \n",
            "hasib\n",
            "hasib\n",
            "<built-in method maketrans of type object at 0x58269b0ad7c0>\n",
            "('h', 'a', 'sib')\n",
            "hbsib\n",
            "1\n",
            "1\n",
            "               hasib\n",
            "('h', 'a', 'sib')\n",
            "['hasib']\n",
            "hasib\n",
            "['hasib']\n",
            "['hasib']\n",
            "True\n",
            "hasib\n",
            "HASIB\n",
            "Hasib\n",
            "<built-in method translate of str object at 0x7ce63fded7f0>\n",
            "HASIB\n",
            "000000000000000hasib\n"
          ]
        }
      ]
    },
    {
      "cell_type": "markdown",
      "source": [
        "Python Boolean\n"
      ],
      "metadata": {
        "id": "KJCy19vWCiRz"
      }
    },
    {
      "cell_type": "code",
      "source": [
        "print(10 > 9)\n",
        "print(10 == 9)\n",
        "print(10 < 9)\n",
        "x = 10\n",
        "y = 9\n",
        "print(bool(x==y)) # bool() function returns the True and the False\n",
        "\n",
        "a = \"Hasib\"\n",
        "b = 10\n",
        "print(bool(a))\n",
        "print(bool(b))\n",
        "\n",
        "# condition\n",
        "if 10 > 9:\n",
        "  print(\"10 is greater than 9\")\n",
        "else:\n",
        "  print(\"10 is not greater than 9\")\n",
        "\n",
        "\n",
        "bool(\"abc\")\n",
        "bool(321)\n",
        "bool([\"apple\", \"cherry\", \"banana\"])\n",
        "\n"
      ],
      "metadata": {
        "colab": {
          "base_uri": "https://localhost:8080/"
        },
        "id": "iabVk_rLBHtR",
        "outputId": "3fe65f8b-5c41-4514-bf5e-ceb351be20f3"
      },
      "execution_count": 36,
      "outputs": [
        {
          "output_type": "stream",
          "name": "stdout",
          "text": [
            "True\n",
            "False\n",
            "False\n",
            "False\n",
            "True\n",
            "True\n",
            "10 is greater than 9\n"
          ]
        },
        {
          "output_type": "execute_result",
          "data": {
            "text/plain": [
              "True"
            ]
          },
          "metadata": {},
          "execution_count": 36
        }
      ]
    },
    {
      "cell_type": "code",
      "source": [],
      "metadata": {
        "id": "-6groCfICpzz"
      },
      "execution_count": null,
      "outputs": []
    },
    {
      "cell_type": "code",
      "source": [
        "# new line\n",
        "\n",
        "bool(False)\n",
        "bool(None)\n",
        "bool(0)\n",
        "bool(\"\")\n",
        "bool(())\n",
        "bool([])\n",
        "bool({})"
      ],
      "metadata": {
        "colab": {
          "base_uri": "https://localhost:8080/"
        },
        "id": "8OdnxuQHD0Uf",
        "outputId": "ac607f1d-5e53-4fc5-f408-4eb23c01a733"
      },
      "execution_count": 37,
      "outputs": [
        {
          "output_type": "execute_result",
          "data": {
            "text/plain": [
              "False"
            ]
          },
          "metadata": {},
          "execution_count": 37
        }
      ]
    },
    {
      "cell_type": "code",
      "source": [
        "# One more value, or object in this case, evaluates to False, and that is if you have an object that is made from a class with a __len__ function that returns 0 or False:\n",
        "\n",
        "class myclass():\n",
        "  def __len__(self):\n",
        "    return 0\n",
        "\n",
        "myobj = myclass()\n",
        "print(bool(myobj))"
      ],
      "metadata": {
        "colab": {
          "base_uri": "https://localhost:8080/"
        },
        "id": "BczlZr4UD1Rk",
        "outputId": "4eda3bbb-fc97-47b0-d083-8439638ca439"
      },
      "execution_count": 38,
      "outputs": [
        {
          "output_type": "stream",
          "name": "stdout",
          "text": [
            "False\n"
          ]
        }
      ]
    },
    {
      "cell_type": "code",
      "source": [
        "# Function can return a Boolean value\n",
        "\n",
        "def myFunction() :\n",
        "  return True\n",
        "\n",
        "print(myFunction())"
      ],
      "metadata": {
        "colab": {
          "base_uri": "https://localhost:8080/"
        },
        "id": "GzlILeENEFf9",
        "outputId": "70874083-9f5b-423e-d1a2-fdc3b920308d"
      },
      "execution_count": 39,
      "outputs": [
        {
          "output_type": "stream",
          "name": "stdout",
          "text": [
            "True\n"
          ]
        }
      ]
    },
    {
      "cell_type": "code",
      "source": [
        "def myFunction() :\n",
        "  return False\n",
        "\n",
        "if myFunction():\n",
        "  print(\"YES!\")\n",
        "else:\n",
        "  print(\"NO!\")\n",
        "\n",
        "# function return the boolean values with the conditions\n"
      ],
      "metadata": {
        "colab": {
          "base_uri": "https://localhost:8080/"
        },
        "id": "fPsivNGGEgyd",
        "outputId": "fc82c249-7977-4ec7-8f1f-fae46f700bdf"
      },
      "execution_count": 41,
      "outputs": [
        {
          "output_type": "stream",
          "name": "stdout",
          "text": [
            "NO!\n"
          ]
        }
      ]
    },
    {
      "cell_type": "code",
      "source": [
        "# check if an object is intejer or not\n",
        "\n",
        "x = 200\n",
        "print(isinstance(x, int))\n",
        "\n",
        "print(isinstance(x, float))"
      ],
      "metadata": {
        "colab": {
          "base_uri": "https://localhost:8080/"
        },
        "id": "OWDu9vUPExjg",
        "outputId": "09091fc2-7d85-4561-d1ce-3655c6ab99e5"
      },
      "execution_count": 43,
      "outputs": [
        {
          "output_type": "stream",
          "name": "stdout",
          "text": [
            "True\n",
            "False\n"
          ]
        }
      ]
    },
    {
      "cell_type": "markdown",
      "source": [
        "# ***Python operators***"
      ],
      "metadata": {
        "id": "nv7SN_Q5FWtQ"
      }
    },
    {
      "cell_type": "code",
      "source": [
        "print(10 + 5)"
      ],
      "metadata": {
        "colab": {
          "base_uri": "https://localhost:8080/"
        },
        "id": "Y3rMvq6iFPUE",
        "outputId": "b1d6497a-f306-4217-c8f5-7156c663e7e6"
      },
      "execution_count": 44,
      "outputs": [
        {
          "output_type": "stream",
          "name": "stdout",
          "text": [
            "15\n"
          ]
        }
      ]
    },
    {
      "cell_type": "code",
      "source": [
        "# # Python  operators\n",
        "\n",
        "# Arithmetic operators\n",
        "# Assignment operators\n",
        "# Comparison operators\n",
        "# Logical operators\n",
        "# Identity operators\n",
        "# Membership operators\n",
        "# Bitwise operators"
      ],
      "metadata": {
        "id": "FDrLoDZ6Fk5u"
      },
      "execution_count": null,
      "outputs": []
    },
    {
      "cell_type": "code",
      "source": [
        "# Arithmetic operators\n",
        "\n",
        "a = 10\n",
        "b = 5\n",
        "print(a+b)\n",
        "print(a-b)\n",
        "print(a*b)\n",
        "print(a/b)\n",
        "print(a%b)\n",
        "print(a**b)\n",
        "print(a//b)"
      ],
      "metadata": {
        "colab": {
          "base_uri": "https://localhost:8080/"
        },
        "id": "zex4u9GJFzYO",
        "outputId": "b463e70e-a3a3-4f06-ec91-702e9f7a5154"
      },
      "execution_count": 45,
      "outputs": [
        {
          "output_type": "stream",
          "name": "stdout",
          "text": [
            "15\n",
            "5\n",
            "50\n",
            "2.0\n",
            "0\n",
            "100000\n",
            "2\n"
          ]
        }
      ]
    },
    {
      "cell_type": "code",
      "source": [
        "# Assignment operators\n",
        "x = float(55)\n",
        "y = float(11)\n",
        "\n",
        "# x = x + 3\n",
        "x += 3\n",
        "print(x)\n",
        "\n",
        "# x = x - 3\n",
        "x -= 3\n",
        "print(x)\n",
        "\n",
        "# x = x * 3\n",
        "x *= 3\n",
        "print(x)\n",
        "\n",
        "# x = x / 3\n",
        "x /= 3\n",
        "print(x)\n",
        "\n",
        "# x = x % 3\n",
        "x %= 3\n",
        "print(x)\n",
        "\n",
        "# x = x // 3\n",
        "x //= 3\n",
        "print(x)\n",
        "\n",
        "# x = x ** 3\n",
        "x **= 3\n",
        "print(x)\n",
        "\n",
        "# x = x & 3\n",
        "# x &= 3\n",
        "# print(x)\n",
        "\n",
        "# x = x | 3\n",
        "# x |= 3\n",
        "# print(x)\n",
        "\n",
        "# x = x ^ 3\n",
        "# x ^= 3\n",
        "# print(x)\n",
        "\n",
        "# # x = x >> 3\n",
        "# x >>= 3\n",
        "# print(x)\n",
        "\n",
        "# # x = x << 3\n",
        "# x <<= 3\n",
        "# print(x)\n",
        "\n"
      ],
      "metadata": {
        "colab": {
          "base_uri": "https://localhost:8080/"
        },
        "id": "-YJWwX9CGIdP",
        "outputId": "1594c50a-482d-49e9-bc40-a6ad20b64d8c"
      },
      "execution_count": 60,
      "outputs": [
        {
          "output_type": "stream",
          "name": "stdout",
          "text": [
            "58.0\n",
            "55.0\n",
            "165.0\n",
            "55.0\n",
            "1.0\n",
            "0.0\n",
            "0.0\n"
          ]
        }
      ]
    },
    {
      "cell_type": "code",
      "source": [
        "# Python Compariosn operators\n",
        "\n",
        "a = 10\n",
        "b = 5\n",
        "print(a==b)\n",
        "print(a!=b)\n",
        "print(a>b)\n",
        "print(a<b)\n",
        "print(a>=b)\n",
        "print(a<=b)"
      ],
      "metadata": {
        "colab": {
          "base_uri": "https://localhost:8080/"
        },
        "id": "A3Cf_uj6Glfq",
        "outputId": "c47b5eb4-6238-421a-ca67-e5df0e5f6138"
      },
      "execution_count": 61,
      "outputs": [
        {
          "output_type": "stream",
          "name": "stdout",
          "text": [
            "False\n",
            "True\n",
            "True\n",
            "False\n",
            "True\n",
            "False\n"
          ]
        }
      ]
    },
    {
      "cell_type": "code",
      "source": [
        "# Python logical operators\n",
        "\n",
        "x = 10\n",
        "print(x < 5 and  x < 10)\n",
        "print(x < 5 or x > 4)\n",
        "print(not(x < 5 and x < 10))"
      ],
      "metadata": {
        "colab": {
          "base_uri": "https://localhost:8080/"
        },
        "id": "KxskRSP7H4Bb",
        "outputId": "aa504c0b-c8ff-4cf2-e662-980686c0ddeb"
      },
      "execution_count": 63,
      "outputs": [
        {
          "output_type": "stream",
          "name": "stdout",
          "text": [
            "False\n",
            "True\n",
            "True\n"
          ]
        }
      ]
    },
    {
      "cell_type": "code",
      "source": [
        "# Python Indentity Operators\n",
        "\n",
        "x = [\"apple\", \"banana\"]\n",
        "y = [\"apple\", \"banana\"]\n",
        "z = x\n",
        "\n",
        "print(x is z)\n",
        "print(x is not y)\n",
        "print(x == y)\n",
        "print(x is y)"
      ],
      "metadata": {
        "colab": {
          "base_uri": "https://localhost:8080/"
        },
        "id": "QTtZFZyDIFEo",
        "outputId": "9aab369c-e6a8-4c50-f3cf-7d96b8b07f31"
      },
      "execution_count": 68,
      "outputs": [
        {
          "output_type": "stream",
          "name": "stdout",
          "text": [
            "True\n",
            "True\n",
            "True\n",
            "False\n"
          ]
        }
      ]
    },
    {
      "cell_type": "code",
      "source": [
        "# Pyhton Membership Operators\n",
        "\n",
        "x = [\"apple\", \"banana\"]\n",
        "print(\"banana\" in x)\n",
        "print(\"pineapple\" not in x)"
      ],
      "metadata": {
        "colab": {
          "base_uri": "https://localhost:8080/"
        },
        "id": "0Wlc2piNIVOv",
        "outputId": "d4500b81-aa7c-46e4-cb0c-37239a64a0f5"
      },
      "execution_count": 69,
      "outputs": [
        {
          "output_type": "stream",
          "name": "stdout",
          "text": [
            "True\n",
            "True\n"
          ]
        }
      ]
    },
    {
      "cell_type": "code",
      "source": [
        "# Python Betwise Operators\n",
        "\n",
        "a = 10\n",
        "b = 5\n",
        "print(a & b)\n",
        "print(a | b)\n",
        "print(a ^ b)\n",
        "print(~a)\n",
        "print(a << b)\n",
        "print(a >> b)"
      ],
      "metadata": {
        "colab": {
          "base_uri": "https://localhost:8080/"
        },
        "id": "PJuzpdeLI8IA",
        "outputId": "8fe4a3c7-4949-4000-b9eb-ad20a7519887"
      },
      "execution_count": 70,
      "outputs": [
        {
          "output_type": "stream",
          "name": "stdout",
          "text": [
            "0\n",
            "15\n",
            "15\n",
            "-11\n",
            "320\n",
            "0\n"
          ]
        }
      ]
    },
    {
      "cell_type": "code",
      "source": [
        "# Opearator Precedence\n",
        "# * / + -\n",
        "print(10 + 5 * 2)\n",
        "print((10 + 5) * 2)\n",
        "print(100 + 5 * 10 / 2)\n",
        "\n",
        "# The precedence order\n",
        "\n",
        "# ()\n",
        "# **\n",
        "# +x  -x  ~x\n",
        "# *,/,//,%\n",
        "# +,-\n",
        "# <<,>>\n",
        "# &\n",
        "# ^\n",
        "# |\n",
        "# ==,!=,>,>=,<,<=,is,is not,in,not in"
      ],
      "metadata": {
        "colab": {
          "base_uri": "https://localhost:8080/"
        },
        "id": "wFDGiX6RJHbK",
        "outputId": "7016f803-9e70-449e-cfe1-ce958ad824e4"
      },
      "execution_count": 71,
      "outputs": [
        {
          "output_type": "stream",
          "name": "stdout",
          "text": [
            "20\n",
            "30\n",
            "125.0\n"
          ]
        }
      ]
    }
  ]
}