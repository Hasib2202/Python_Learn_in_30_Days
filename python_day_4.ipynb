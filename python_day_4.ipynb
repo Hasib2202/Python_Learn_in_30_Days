{
  "nbformat": 4,
  "nbformat_minor": 0,
  "metadata": {
    "colab": {
      "provenance": [],
      "gpuType": "T4"
    },
    "kernelspec": {
      "name": "python3",
      "display_name": "Python 3"
    },
    "language_info": {
      "name": "python"
    },
    "accelerator": "GPU"
  },
  "cells": [
    {
      "cell_type": "markdown",
      "source": [
        "Python list"
      ],
      "metadata": {
        "id": "7E-110op8ea_"
      }
    },
    {
      "cell_type": "code",
      "execution_count": 1,
      "metadata": {
        "colab": {
          "base_uri": "https://localhost:8080/"
        },
        "id": "bvavy5iC8Fjg",
        "outputId": "5a36bccb-6169-4e35-a684-c137a01be6a0"
      },
      "outputs": [
        {
          "output_type": "stream",
          "name": "stdout",
          "text": [
            "['apple', 'banana', 'cherry']\n"
          ]
        }
      ],
      "source": [
        "# total 4 by default data collection in python\n",
        "# list\n",
        "# tuple\n",
        "# set\n",
        "# dictionary\n",
        "\n",
        "# list are created using square brackets:\n",
        "\n",
        "fruirts = [\"apple\", \"banana\", \"cherry\"]\n",
        "print(fruirts)"
      ]
    },
    {
      "cell_type": "code",
      "source": [
        "# List Items\n",
        "\n",
        "# List items are ordered, changeable, and allow duplicate values.\n",
        "\n",
        "# List items are indexed, the first item has index [0], the second item has index [1] etc.\n",
        "\n",
        "# Ordered\n",
        "# When we say that lists are ordered, it means that the items have a defined order, and that order will not change.\n",
        "\n",
        "# If you add new items to a list, the new items will be placed at the end of the list.\n",
        "\n",
        "# Changeable\n",
        "# The list is changeable, meaning that we can change, add, and remove items in a list after it has been created\n",
        "\n",
        "# Allow Duplicates\n",
        "# Since lists are indexed, lists can have items with the same value:\n",
        "\n",
        "cars = [\"Ford\", \"Volvo\", \"BMW\", \"Ford\"]\n",
        "print(cars)\n",
        "\n",
        "cars.append(\"Honda\")\n",
        "print(cars)\n",
        "\n",
        "cars.append(\"BMW\")\n",
        "print(cars)\n",
        "\n",
        "cars.remove(\"BMW\")\n",
        "print(cars)"
      ],
      "metadata": {
        "colab": {
          "base_uri": "https://localhost:8080/"
        },
        "id": "6mehl8Nl89WA",
        "outputId": "9513d847-d696-4636-f45d-efcc24552ae1"
      },
      "execution_count": 5,
      "outputs": [
        {
          "output_type": "stream",
          "name": "stdout",
          "text": [
            "['Ford', 'Volvo', 'BMW', 'Ford']\n",
            "['Ford', 'Volvo', 'BMW', 'Ford', 'Honda']\n",
            "['Ford', 'Volvo', 'BMW', 'Ford', 'Honda', 'BMW']\n",
            "['Ford', 'Volvo', 'Ford', 'Honda', 'BMW']\n"
          ]
        }
      ]
    },
    {
      "cell_type": "code",
      "source": [
        "# List length\n",
        "\n",
        "# To determine how many items a list has, use the len() function:\n",
        "\n",
        "print(len(cars))\n"
      ],
      "metadata": {
        "colab": {
          "base_uri": "https://localhost:8080/"
        },
        "id": "Y1cpo5xZ9dlg",
        "outputId": "7b777a1e-e3f6-4c96-d850-b2e8d947b67e"
      },
      "execution_count": 6,
      "outputs": [
        {
          "output_type": "stream",
          "name": "stdout",
          "text": [
            "5\n"
          ]
        }
      ]
    },
    {
      "cell_type": "code",
      "source": [
        "# list items data types\n",
        "\n",
        "# List items can be of any data type\n",
        "\n",
        "list1 = [\"apple\", \"banana\", \"cherry\"]\n",
        "list2 = [1, 5, 7, 9, 3]\n",
        "list3 = [True, False, False]\n",
        "\n",
        "print(list1)\n",
        "print(list2)\n",
        "print(list3)"
      ],
      "metadata": {
        "colab": {
          "base_uri": "https://localhost:8080/"
        },
        "id": "F4WsYviI90wg",
        "outputId": "996eb185-0ccf-40f4-dc38-94687a40fa11"
      },
      "execution_count": 7,
      "outputs": [
        {
          "output_type": "stream",
          "name": "stdout",
          "text": [
            "['apple', 'banana', 'cherry']\n",
            "[1, 5, 7, 9, 3]\n",
            "[True, False, False]\n"
          ]
        }
      ]
    },
    {
      "cell_type": "code",
      "source": [
        "# a list can contain different data types\n",
        "\n",
        "list1 = [\"abc\", 34, True, 40, \"male\"]\n",
        "print(list1)"
      ],
      "metadata": {
        "colab": {
          "base_uri": "https://localhost:8080/"
        },
        "id": "W_zkeEZq99Ts",
        "outputId": "adabb13f-94bb-48d0-aff7-97daa9133bce"
      },
      "execution_count": 8,
      "outputs": [
        {
          "output_type": "stream",
          "name": "stdout",
          "text": [
            "['abc', 34, True, 40, 'male']\n"
          ]
        }
      ]
    },
    {
      "cell_type": "code",
      "source": [
        "print(type(list1))"
      ],
      "metadata": {
        "colab": {
          "base_uri": "https://localhost:8080/"
        },
        "id": "BkUjgxAc-FQl",
        "outputId": "2912cfe4-b635-479f-b30c-93adfbe04139"
      },
      "execution_count": 9,
      "outputs": [
        {
          "output_type": "stream",
          "name": "stdout",
          "text": [
            "<class 'list'>\n"
          ]
        }
      ]
    },
    {
      "cell_type": "code",
      "source": [
        "# using the list constructor [ list() ] to make a list\n",
        "\n",
        "thislist = list((\"apple\", \"banana\", \"cherry\")) # note the double round-brackets\n",
        "print(thislist)"
      ],
      "metadata": {
        "colab": {
          "base_uri": "https://localhost:8080/"
        },
        "id": "ZRsfxNVT-JdV",
        "outputId": "50684491-4b6c-488c-c8ac-ca05f7fecd94"
      },
      "execution_count": 10,
      "outputs": [
        {
          "output_type": "stream",
          "name": "stdout",
          "text": [
            "['apple', 'banana', 'cherry']\n"
          ]
        }
      ]
    },
    {
      "cell_type": "code",
      "source": [
        "# Python collections (Arrays)\n",
        "\n",
        "# There are four collection data types in the python\n",
        "\n",
        "\n",
        "    # List is a collection which is ordered and changeable. Allows duplicate members.\n",
        "    # Tuple is a collection which is ordered and unchangeable. Allows duplicate members.\n",
        "    # Set is a collection which is unordered, unchangeable*, and unindexed. No duplicate members.\n",
        "    # Dictionary is a collection which is ordered** and changeable. No duplicate members.\n"
      ],
      "metadata": {
        "id": "ecxrspYs-da_"
      },
      "execution_count": null,
      "outputs": []
    },
    {
      "cell_type": "markdown",
      "source": [
        "## **Access list items**"
      ],
      "metadata": {
        "id": "ZEEXqTX_--pb"
      }
    },
    {
      "cell_type": "code",
      "source": [
        "cars = [\"Ford\", \"Volvo\", \"BMW\"]\n",
        "print(cars[0])"
      ],
      "metadata": {
        "colab": {
          "base_uri": "https://localhost:8080/"
        },
        "id": "piDCXRFQ_Dry",
        "outputId": "2cf00441-7772-4185-a702-b42ec9434cfd"
      },
      "execution_count": 11,
      "outputs": [
        {
          "output_type": "stream",
          "name": "stdout",
          "text": [
            "Ford\n"
          ]
        }
      ]
    },
    {
      "cell_type": "code",
      "source": [
        "# Negative indexing\n",
        "\n",
        "# Negative indexing means start from the end\n",
        "\n",
        "# -1 refers to the last item, -2 refers to the second last item etc.\n",
        "\n",
        "print(cars[-1])"
      ],
      "metadata": {
        "colab": {
          "base_uri": "https://localhost:8080/"
        },
        "id": "BR_ArK6f_G-x",
        "outputId": "e1db7c29-c523-42fb-fc18-dd9595e29b18"
      },
      "execution_count": 12,
      "outputs": [
        {
          "output_type": "stream",
          "name": "stdout",
          "text": [
            "BMW\n"
          ]
        }
      ]
    },
    {
      "cell_type": "code",
      "source": [
        "# Range of indexes\n",
        "\n",
        "# You can specify a range of indexes by specifying where to start and where to end the range.\n",
        "\n",
        "# When specifying a range, the return value will be a new list with the specified items.\n",
        "\n",
        "flowers = [\"rose\", \"lily\", \"sunflower\", \"jasmine\", \"tulip\"]\n",
        "print(flowers[2:5])\n",
        "\n",
        "\n",
        "\n",
        "# Note: The search will start at index 2 (included) and end at index 5 (not included).\n",
        "\n",
        "# Remember that the first item has index 0.\n"
      ],
      "metadata": {
        "colab": {
          "base_uri": "https://localhost:8080/"
        },
        "id": "AlMiI80Z_O2U",
        "outputId": "e8702f72-c5c2-4a42-f8a2-f9193a504917"
      },
      "execution_count": 13,
      "outputs": [
        {
          "output_type": "stream",
          "name": "stdout",
          "text": [
            "['sunflower', 'jasmine', 'tulip']\n"
          ]
        }
      ]
    },
    {
      "cell_type": "code",
      "source": [
        "# By leaving out the start value, the range will start at the first item:\n",
        "\n",
        "print(flowers[:4])"
      ],
      "metadata": {
        "colab": {
          "base_uri": "https://localhost:8080/"
        },
        "id": "t51M7OwW_nGc",
        "outputId": "5ddfc6b4-07ee-4110-9311-6764445baa86"
      },
      "execution_count": 14,
      "outputs": [
        {
          "output_type": "stream",
          "name": "stdout",
          "text": [
            "['rose', 'lily', 'sunflower', 'jasmine']\n"
          ]
        }
      ]
    },
    {
      "cell_type": "code",
      "source": [
        "fruirts = [\"apple\", \"banana\", \"cherry\", \"orange\", \"kiwi\", \"melon\", \"mango\"]\n",
        "print(fruirts[2:])"
      ],
      "metadata": {
        "colab": {
          "base_uri": "https://localhost:8080/"
        },
        "id": "8uZDh4C6_9hS",
        "outputId": "a5d379e2-9e53-441a-8368-eaf04b736b70"
      },
      "execution_count": 15,
      "outputs": [
        {
          "output_type": "stream",
          "name": "stdout",
          "text": [
            "['cherry', 'orange', 'kiwi', 'melon', 'mango']\n"
          ]
        }
      ]
    },
    {
      "cell_type": "code",
      "source": [
        "# Range of negative indexes\n",
        "\n",
        "# Specify negative indexes if you want to start the search from the end of the list:\n",
        "\n",
        "thislist = [\"apple\", \"banana\", \"cherry\", \"orange\", \"kiwi\", \"melon\", \"mango\"]\n",
        "print(thislist[-4:-1])\n",
        "\n",
        "# This example returns the items from \"orange\" (-4) to, but NOT including \"mango\" (-1):"
      ],
      "metadata": {
        "colab": {
          "base_uri": "https://localhost:8080/"
        },
        "id": "NydULO5cAPXX",
        "outputId": "92a3475b-f499-4a96-99cc-822a4bdf25d8"
      },
      "execution_count": 17,
      "outputs": [
        {
          "output_type": "stream",
          "name": "stdout",
          "text": [
            "['orange', 'kiwi', 'melon']\n"
          ]
        }
      ]
    },
    {
      "cell_type": "code",
      "source": [
        "# check if item exists\n",
        "\n",
        "books = [\"book1\", \"book2\", \"book3\"]\n",
        "if \"book1\" in books:\n",
        "    print(\"Yes, 'book1' is in the books list\")"
      ],
      "metadata": {
        "colab": {
          "base_uri": "https://localhost:8080/"
        },
        "id": "AwVwhKg6Ain5",
        "outputId": "686ee695-0201-4dc0-f450-714e7b51fef1"
      },
      "execution_count": 18,
      "outputs": [
        {
          "output_type": "stream",
          "name": "stdout",
          "text": [
            "Yes, 'book1' is in the books list\n"
          ]
        }
      ]
    },
    {
      "cell_type": "markdown",
      "source": [
        "## *Change item value*"
      ],
      "metadata": {
        "id": "C8fEYllWBYs-"
      }
    },
    {
      "cell_type": "code",
      "source": [
        "# to change the value of a spcefic item, refer to the index number\n",
        "\n",
        "cars = [\"Ford\", \"Volvo\", \"BMW\"]\n",
        "cars[0] = \"Toyota\"\n",
        "print(cars)"
      ],
      "metadata": {
        "colab": {
          "base_uri": "https://localhost:8080/"
        },
        "id": "vI2XUaXABBIf",
        "outputId": "fc674c66-4693-4418-c79d-b6f0d05b3ab5"
      },
      "execution_count": 19,
      "outputs": [
        {
          "output_type": "stream",
          "name": "stdout",
          "text": [
            "['Toyota', 'Volvo', 'BMW']\n"
          ]
        }
      ]
    },
    {
      "cell_type": "code",
      "source": [
        "# change the range of the item values\n",
        "\n",
        "cars = [\"Ford\", \"Volvo\", \"BMW\", \"Toyota\", \"Honda\"]\n",
        "cars[1:3] = [\"Maruti\", \"Hyundai\"]\n",
        "print(cars)"
      ],
      "metadata": {
        "colab": {
          "base_uri": "https://localhost:8080/"
        },
        "id": "dUON89udBnMn",
        "outputId": "fccdfb1e-29d0-46de-da3a-67dc82d00502"
      },
      "execution_count": 20,
      "outputs": [
        {
          "output_type": "stream",
          "name": "stdout",
          "text": [
            "['Ford', 'Maruti', 'Hyundai', 'Toyota', 'Honda']\n"
          ]
        }
      ]
    },
    {
      "cell_type": "code",
      "source": [
        "# if you insert more items than you replace the new items will be inserted where you specified and remaining itmes will move accordingly\n",
        "# Change the second value by replacing it with three new values\n",
        "\n",
        "\n",
        "cars = [\"Ford\", \"Volvo\", \"BMW\"]\n",
        "cars[1:2] = [\"Maruti\", \"Hyundai\", \"Tata\"]\n",
        "print(cars)\n",
        "\n",
        "print(len(cars))"
      ],
      "metadata": {
        "colab": {
          "base_uri": "https://localhost:8080/"
        },
        "id": "HwXldFwVB8uO",
        "outputId": "adb8e641-ac7a-49a8-b83c-c0cd3b54d9a2"
      },
      "execution_count": 22,
      "outputs": [
        {
          "output_type": "stream",
          "name": "stdout",
          "text": [
            "['Ford', 'Maruti', 'Hyundai', 'Tata', 'BMW']\n",
            "5\n"
          ]
        }
      ]
    },
    {
      "cell_type": "code",
      "source": [
        "# Change the second and third value by replacing it with one value:\n",
        "\n",
        "thislist = [\"apple\", \"banana\", \"cherry\"]\n",
        "thislist[1:3] = [\"watermelon\"]\n",
        "print(thislist)"
      ],
      "metadata": {
        "colab": {
          "base_uri": "https://localhost:8080/"
        },
        "id": "UZPWjbvCCjmV",
        "outputId": "1b7a5212-74bc-463e-eccb-b1baac18c884"
      },
      "execution_count": 23,
      "outputs": [
        {
          "output_type": "stream",
          "name": "stdout",
          "text": [
            "['apple', 'watermelon']\n"
          ]
        }
      ]
    },
    {
      "cell_type": "code",
      "source": [
        "# insert items\n",
        "\n",
        "cars = [\"Ford\", \"Volvo\", \"BMW\"]\n",
        "cars.insert(2, \"Honda\") # mention the index number\n",
        "cars.append(\"Toyota\") # not mention index number\n",
        "print(cars)\n",
        "\n",
        "cars.insert(0, \"Maruti\")\n",
        "print(cars)"
      ],
      "metadata": {
        "colab": {
          "base_uri": "https://localhost:8080/"
        },
        "id": "Pqc1UUbqDCdn",
        "outputId": "c2c08abd-fd0b-4ee7-d2dc-10636c140e1b"
      },
      "execution_count": 28,
      "outputs": [
        {
          "output_type": "stream",
          "name": "stdout",
          "text": [
            "['Ford', 'Volvo', 'Honda', 'BMW', 'Toyota']\n",
            "['Maruti', 'Ford', 'Volvo', 'Honda', 'BMW', 'Toyota']\n"
          ]
        }
      ]
    },
    {
      "cell_type": "code",
      "source": [
        "# add an item to the end of the lsit\n",
        "\n",
        "cars = [\"Ford\", \"Volvo\", \"BMW\"]\n",
        "cars.append(\"Honda\")\n",
        "print(cars)"
      ],
      "metadata": {
        "colab": {
          "base_uri": "https://localhost:8080/"
        },
        "id": "7UX7Yj3tDP02",
        "outputId": "914197d8-d1ec-4478-8d18-0f36dfb8f111"
      },
      "execution_count": 29,
      "outputs": [
        {
          "output_type": "stream",
          "name": "stdout",
          "text": [
            "['Ford', 'Volvo', 'BMW', 'Honda']\n"
          ]
        }
      ]
    },
    {
      "cell_type": "code",
      "source": [
        "# extend list\n",
        "\n",
        "cars = [\"Ford\", \"Volvo\", \"BMW\"]\n",
        "cars2 = [\"Toyota\", \"Honda\"]\n",
        "cars.extend(cars2)\n",
        "print(cars)"
      ],
      "metadata": {
        "colab": {
          "base_uri": "https://localhost:8080/"
        },
        "id": "e1A7dr-fD6K_",
        "outputId": "1fdf534a-f482-4c74-a1e8-0ecaf683abb5"
      },
      "execution_count": 30,
      "outputs": [
        {
          "output_type": "stream",
          "name": "stdout",
          "text": [
            "['Ford', 'Volvo', 'BMW', 'Toyota', 'Honda']\n"
          ]
        }
      ]
    },
    {
      "cell_type": "code",
      "source": [
        "# Add Any Iterable\n",
        "\n",
        "# The extend() method does not have to append lists, you can add any iterable object (tuples, sets, dictionaries etc.).\n",
        "\n",
        "cars = [\"Ford\", \"Volvo\", \"BMW\"]\n",
        "cars2 = (\"Toyota\", \"Honda\")\n",
        "cars.extend(cars2)\n",
        "print(cars)"
      ],
      "metadata": {
        "colab": {
          "base_uri": "https://localhost:8080/"
        },
        "id": "zDSWKSxiEHUv",
        "outputId": "00b7322a-b558-4a78-c02d-aea11eafd95e"
      },
      "execution_count": 31,
      "outputs": [
        {
          "output_type": "stream",
          "name": "stdout",
          "text": [
            "['Ford', 'Volvo', 'BMW', 'Toyota', 'Honda']\n"
          ]
        }
      ]
    },
    {
      "cell_type": "code",
      "source": [
        "# Remove Specified Item\n",
        "\n",
        "# The remove() method removes the specified item.\n",
        "\n",
        "cars = [\"Ford\", \"Volvo\", \"BMW\"]\n",
        "cars.remove(\"Volvo\")\n",
        "print(cars)"
      ],
      "metadata": {
        "colab": {
          "base_uri": "https://localhost:8080/"
        },
        "id": "kaCubomAEWXN",
        "outputId": "55179886-8577-4186-f8ff-fbb68ae605f5"
      },
      "execution_count": 32,
      "outputs": [
        {
          "output_type": "stream",
          "name": "stdout",
          "text": [
            "['Ford', 'BMW']\n"
          ]
        }
      ]
    },
    {
      "cell_type": "code",
      "source": [
        "# If there are more than one items with the specified value, the remove() method removes the first occurrance:\n",
        "\n",
        "cars = [\"Ford\", \"Volvo\", \"BMW\", \"Volvo\"]\n",
        "cars.remove(\"Volvo\")\n",
        "print(cars)"
      ],
      "metadata": {
        "colab": {
          "base_uri": "https://localhost:8080/"
        },
        "id": "m3PiPCj5EgHp",
        "outputId": "7c3732a3-df65-41a8-8a9c-fea9c1dee17f"
      },
      "execution_count": 33,
      "outputs": [
        {
          "output_type": "stream",
          "name": "stdout",
          "text": [
            "['Ford', 'BMW', 'Volvo']\n"
          ]
        }
      ]
    },
    {
      "cell_type": "code",
      "source": [
        "# Remove specified Index\n",
        "\n",
        "# The pop() method removes the specified index.\n",
        "\n",
        "cars =  [\"Ford\", \"Volvo\", \"BMW\"]\n",
        "cars.pop(1)\n",
        "print(cars)\n",
        "\n",
        "# If you do not specify the index, the pop() method removes the last item.\n",
        "\n",
        "cars.pop()\n",
        "print(cars)"
      ],
      "metadata": {
        "colab": {
          "base_uri": "https://localhost:8080/"
        },
        "id": "QFI_I1pREzCp",
        "outputId": "bc740be5-1121-4ef5-8189-161af62dbe53"
      },
      "execution_count": 36,
      "outputs": [
        {
          "output_type": "stream",
          "name": "stdout",
          "text": [
            "['Ford', 'BMW']\n",
            "['Ford']\n"
          ]
        }
      ]
    },
    {
      "cell_type": "code",
      "source": [
        "# The del keyword also removes the specified index\n",
        "\n",
        "cars =  [\"Ford\", \"Volvo\", \"BMW\"]\n",
        "del cars[0]\n",
        "print(cars)"
      ],
      "metadata": {
        "colab": {
          "base_uri": "https://localhost:8080/"
        },
        "id": "Tx3Je2fSE6ZT",
        "outputId": "4d2827b0-bde1-48aa-fe53-52e236b62252"
      },
      "execution_count": 37,
      "outputs": [
        {
          "output_type": "stream",
          "name": "stdout",
          "text": [
            "['Volvo', 'BMW']\n"
          ]
        }
      ]
    },
    {
      "cell_type": "code",
      "source": [
        "# he del keyword can also delete the list completely.\n",
        "\n",
        "cars =  [\"Ford\", \"Volvo\", \"BMW\"]\n",
        "del cars"
      ],
      "metadata": {
        "id": "GCGY6h2cFX0T"
      },
      "execution_count": 38,
      "outputs": []
    },
    {
      "cell_type": "code",
      "source": [
        "# Clear the List\n",
        "\n",
        "# The clear() method empties the list.\n",
        "\n",
        "# The list still remains, but it has no content.\n",
        "\n",
        "thislist = [\"apple\", \"banana\", \"cherry\"]\n",
        "thislist.clear()\n",
        "print(thislist)\n"
      ],
      "metadata": {
        "colab": {
          "base_uri": "https://localhost:8080/"
        },
        "id": "Rnnq5DqbFeJx",
        "outputId": "ab6617cd-87db-4e8f-ee83-648da6e33b7b"
      },
      "execution_count": 39,
      "outputs": [
        {
          "output_type": "stream",
          "name": "stdout",
          "text": [
            "[]\n"
          ]
        }
      ]
    },
    {
      "cell_type": "code",
      "source": [],
      "metadata": {
        "id": "2-bJft56Fnqx"
      },
      "execution_count": null,
      "outputs": []
    }
  ]
}