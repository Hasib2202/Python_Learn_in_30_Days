{
  "nbformat": 4,
  "nbformat_minor": 0,
  "metadata": {
    "colab": {
      "provenance": []
    },
    "kernelspec": {
      "name": "python3",
      "display_name": "Python 3"
    },
    "language_info": {
      "name": "python"
    }
  },
  "cells": [
    {
      "cell_type": "code",
      "execution_count": 2,
      "metadata": {
        "colab": {
          "base_uri": "https://localhost:8080/"
        },
        "id": "MK722OH9zuyY",
        "outputId": "709cf2c8-9ea5-4587-c271-d23d2262e5da"
      },
      "outputs": [
        {
          "output_type": "stream",
          "name": "stdout",
          "text": [
            "15\n",
            "30\n",
            "13\n"
          ]
        }
      ],
      "source": [
        "# Python lambda\n",
        "\n",
        "# A lambda function is a small anonymous function.\n",
        "\n",
        "# A lambda function can take any number of arguments, but can only have one expression.\n",
        "\n",
        "# lambda arguments : expression\n",
        "\n",
        "x = lambda a : a + 10\n",
        "print(x(5))\n",
        "\n",
        "x = lambda a, b : a * b\n",
        "print(x(5, 6))\n",
        "\n",
        "x = lambda a, b, c : a + b + c\n",
        "print(x(5, 6, 2))"
      ]
    },
    {
      "cell_type": "code",
      "source": [
        "# Why we use lambda functions?\n",
        "\n",
        "# The power of lambda is better shown when you use them as an anonymous function inside another function.\n",
        "\n",
        "# Say you have a function definition that takes one argument, and that argument will be multiplied with an unknown number\n",
        "\n",
        "def myfunc(n):\n",
        "  return lambda a : a * n\n",
        "\n",
        "mydoubler = myfunc(2)\n",
        "\n",
        "print(mydoubler(11))"
      ],
      "metadata": {
        "colab": {
          "base_uri": "https://localhost:8080/"
        },
        "id": "y1lUgfGT0wOd",
        "outputId": "b7dd9530-0d19-46af-bc40-f9d1fd03e8e5"
      },
      "execution_count": 3,
      "outputs": [
        {
          "output_type": "stream",
          "name": "stdout",
          "text": [
            "22\n"
          ]
        }
      ]
    },
    {
      "cell_type": "code",
      "source": [
        "def myfunc(n):\n",
        "  return lambda a : a * n\n",
        "\n",
        "mytripler = myfunc(3)\n",
        "\n",
        "print(mytripler(11))"
      ],
      "metadata": {
        "colab": {
          "base_uri": "https://localhost:8080/"
        },
        "id": "Pli3A4xo1ouy",
        "outputId": "fed59745-b025-477e-da27-75b723d35c11"
      },
      "execution_count": 4,
      "outputs": [
        {
          "output_type": "stream",
          "name": "stdout",
          "text": [
            "33\n"
          ]
        }
      ]
    },
    {
      "cell_type": "code",
      "source": [
        "def myfunc(n):\n",
        "  return lambda a : a * n\n",
        "\n",
        "mydoubler = myfunc(2)\n",
        "mytripler = myfunc(3)\n",
        "\n",
        "print(mydoubler(11))\n",
        "print(mytripler(11))"
      ],
      "metadata": {
        "colab": {
          "base_uri": "https://localhost:8080/"
        },
        "id": "j9mccoik1yTt",
        "outputId": "e2908126-f7f7-4ffc-b54d-478330e3cd8a"
      },
      "execution_count": 5,
      "outputs": [
        {
          "output_type": "stream",
          "name": "stdout",
          "text": [
            "22\n",
            "33\n"
          ]
        }
      ]
    },
    {
      "cell_type": "code",
      "source": [
        "# Python Arrays\n",
        "\n",
        "# Arrays are used to store multiple values in one single variable\n",
        "\n",
        "cars = [\"Ford\", \"Volvo\", \"BMW\"]\n",
        "\n",
        "x = cars[0]\n",
        "\n",
        "print(x)\n",
        "print(cars[1])\n",
        "print(len(cars))"
      ],
      "metadata": {
        "colab": {
          "base_uri": "https://localhost:8080/"
        },
        "id": "KPF6a9l717L7",
        "outputId": "9541a23b-6585-414a-9abb-0faa1253a8dc"
      },
      "execution_count": 8,
      "outputs": [
        {
          "output_type": "stream",
          "name": "stdout",
          "text": [
            "Ford\n",
            "Volvo\n",
            "3\n"
          ]
        }
      ]
    },
    {
      "cell_type": "code",
      "source": [
        "cars  = [\"Ford\", \"Volvo\", \"BMW\"]\n",
        "\n",
        "for x in cars:\n",
        "  print(x)"
      ],
      "metadata": {
        "colab": {
          "base_uri": "https://localhost:8080/"
        },
        "id": "EhNYx8kw2TDL",
        "outputId": "e1b1eb2a-6f90-488a-fbf7-6d0ca0fb8b43"
      },
      "execution_count": 9,
      "outputs": [
        {
          "output_type": "stream",
          "name": "stdout",
          "text": [
            "Ford\n",
            "Volvo\n",
            "BMW\n"
          ]
        }
      ]
    },
    {
      "cell_type": "code",
      "source": [
        "cars = [\"Supra\", \"Mustang\", \"BMW\"]\n",
        "\n",
        "cars.append(\"Honda\")\n",
        "\n",
        "print(cars)\n",
        "\n",
        "cars.pop(1)\n",
        "\n",
        "print(cars)\n",
        "\n",
        "cars.remove(\"Supra\")\n",
        "\n",
        "print(cars)\n",
        "\n",
        "cars.insert(0, \"Supra\")\n",
        "\n",
        "print(cars)\n",
        "\n",
        "cars.sort()\n",
        "\n",
        "print(cars)\n",
        "\n",
        "cars.reverse()\n",
        "\n",
        "print(cars)"
      ],
      "metadata": {
        "colab": {
          "base_uri": "https://localhost:8080/"
        },
        "id": "sxKp_yYx2eMc",
        "outputId": "dac4ee9b-3c27-4843-dbc9-cd119c913034"
      },
      "execution_count": 11,
      "outputs": [
        {
          "output_type": "stream",
          "name": "stdout",
          "text": [
            "['Supra', 'Mustang', 'BMW', 'Honda']\n",
            "['Supra', 'BMW', 'Honda']\n",
            "['BMW', 'Honda']\n",
            "['Supra', 'BMW', 'Honda']\n",
            "['BMW', 'Honda', 'Supra']\n",
            "['Supra', 'Honda', 'BMW']\n"
          ]
        }
      ]
    },
    {
      "cell_type": "code",
      "source": [],
      "metadata": {
        "id": "6bc3i60g2j7m"
      },
      "execution_count": null,
      "outputs": []
    }
  ]
}