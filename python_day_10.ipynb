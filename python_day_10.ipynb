{
  "nbformat": 4,
  "nbformat_minor": 0,
  "metadata": {
    "colab": {
      "provenance": []
    },
    "kernelspec": {
      "name": "python3",
      "display_name": "Python 3"
    },
    "language_info": {
      "name": "python"
    }
  },
  "cells": [
    {
      "cell_type": "code",
      "execution_count": 1,
      "metadata": {
        "colab": {
          "base_uri": "https://localhost:8080/"
        },
        "id": "nmN2_diZAhJo",
        "outputId": "6a952284-5290-4073-c63e-f52f5632c18e"
      },
      "outputs": [
        {
          "output_type": "stream",
          "name": "stdout",
          "text": [
            "Hello Hasib\n"
          ]
        }
      ],
      "source": [
        "# python functions\n",
        "# a function is a block of code which only runs when it is called\n",
        "\n",
        "def my_function():\n",
        "    print(\"Hello Hasib\")\n",
        "\n",
        "my_function()"
      ]
    },
    {
      "cell_type": "code",
      "source": [
        "# arguments\n",
        "\n",
        "# information can be passed into functions as arguments\n",
        "# arguments are specified after the function name, inside the parentheses. You can add as many arguments as you want, just separate them with a comma\n",
        "\n",
        "def my_function(fname):\n",
        "  print(fname + \" Refsnes\")\n",
        "\n",
        "my_function(\"Emil\")\n",
        "my_function(\"Tobias\")\n",
        "my_function(\"Linus\")\n",
        "\n",
        "#"
      ],
      "metadata": {
        "colab": {
          "base_uri": "https://localhost:8080/"
        },
        "id": "VLGg2EbWBA9a",
        "outputId": "5fe935dd-e2bc-44cc-d258-68647fcc0570"
      },
      "execution_count": 2,
      "outputs": [
        {
          "output_type": "stream",
          "name": "stdout",
          "text": [
            "Emil Refsnes\n",
            "Tobias Refsnes\n",
            "Linus Refsnes\n"
          ]
        }
      ]
    },
    {
      "cell_type": "code",
      "source": [
        "# number of arguments\n",
        "\n",
        "def my_function(fname, lname):\n",
        "    print(fname + \" \" + lname)\n",
        "\n",
        "my_function(\"Emil\", \"Refsnes\")\n"
      ],
      "metadata": {
        "colab": {
          "base_uri": "https://localhost:8080/"
        },
        "id": "-HRgVSXtBnJX",
        "outputId": "9289537d-166d-41ff-ac16-30d9412b039a"
      },
      "execution_count": 3,
      "outputs": [
        {
          "output_type": "stream",
          "name": "stdout",
          "text": [
            "Emil Refsnes\n"
          ]
        }
      ]
    },
    {
      "cell_type": "code",
      "source": [
        "# arbitary arguments,*args\n",
        "\n",
        "# if you do not know how many arguments that will be passed into your function, add a * before the parameter name in the function definition\n",
        "\n",
        "def my_function(*kids):\n",
        "    print(\"The youngest child is \" + kids[2])\n",
        "\n",
        "my_function(\"Emil\", \"Tobias\", \"Linus\")\n",
        "\n"
      ],
      "metadata": {
        "colab": {
          "base_uri": "https://localhost:8080/"
        },
        "id": "cnBpIg1LCCNj",
        "outputId": "621e104f-a1b5-4ffd-94ae-6011b88ea9ca"
      },
      "execution_count": 6,
      "outputs": [
        {
          "output_type": "stream",
          "name": "stdout",
          "text": [
            "The youngest child is Linus\n"
          ]
        }
      ]
    },
    {
      "cell_type": "code",
      "source": [
        "# key arguments\n",
        "\n",
        "# you can also send arguments with the key = value syntax\n",
        "\n",
        "def my_function(child3, child2, child1):\n",
        "    print(\"The youngest child is \" + child3)\n",
        "\n",
        "my_function(child1 = \"Emil\", child2 = \"Tobias\", child3 = \"Linus\")\n",
        "\n",
        "#"
      ],
      "metadata": {
        "colab": {
          "base_uri": "https://localhost:8080/"
        },
        "id": "by291UZPCzo-",
        "outputId": "e67793e5-ba7d-4f8a-e300-e7797585ce87"
      },
      "execution_count": 7,
      "outputs": [
        {
          "output_type": "stream",
          "name": "stdout",
          "text": [
            "The youngest child is Linus\n"
          ]
        }
      ]
    },
    {
      "cell_type": "code",
      "source": [
        "# arbitary keeyword arguments, **kwargs\n",
        "\n",
        "def my_function(**kid):\n",
        "    print(\"His last name is \" + kid[\"lname\"])\n",
        "\n",
        "my_function(fname = \"Tobias\", lname = \"Refsnes\")\n",
        "\n",
        "#"
      ],
      "metadata": {
        "colab": {
          "base_uri": "https://localhost:8080/"
        },
        "id": "rVqKZX5eDRWd",
        "outputId": "de340909-fa01-41c0-df82-ff663f4248ee"
      },
      "execution_count": 8,
      "outputs": [
        {
          "output_type": "stream",
          "name": "stdout",
          "text": [
            "His last name is Refsnes\n"
          ]
        }
      ]
    },
    {
      "cell_type": "code",
      "source": [
        "# default parameter value\n",
        "\n",
        "def my_function(country = \"Norway\"):\n",
        "    print(\"I am from \" + country)\n",
        "\n",
        "my_function(\"Sweden\")\n",
        "my_function(\"India\")\n",
        "my_function()\n",
        "my_function(\"Brazil\")\n",
        "\n",
        "#"
      ],
      "metadata": {
        "colab": {
          "base_uri": "https://localhost:8080/"
        },
        "id": "jhshZQVDDxol",
        "outputId": "6fb737d5-25a2-4f50-b0dc-6c31a1499334"
      },
      "execution_count": 9,
      "outputs": [
        {
          "output_type": "stream",
          "name": "stdout",
          "text": [
            "I am from Sweden\n",
            "I am from India\n",
            "I am from Norway\n",
            "I am from Brazil\n"
          ]
        }
      ]
    },
    {
      "cell_type": "code",
      "source": [
        "# passing an list as an arguments\n",
        "\n",
        "def my_function(food):\n",
        "    for x in food:\n",
        "        print(x)\n",
        "\n",
        "fruits = [\"apple\", \"banana\", \"cherry\"]\n",
        "\n",
        "my_function(fruits)"
      ],
      "metadata": {
        "colab": {
          "base_uri": "https://localhost:8080/"
        },
        "id": "qfhq1MgcD_DJ",
        "outputId": "743ab815-4a1d-4bf5-bfb5-a0fe86ec4292"
      },
      "execution_count": 10,
      "outputs": [
        {
          "output_type": "stream",
          "name": "stdout",
          "text": [
            "apple\n",
            "banana\n",
            "cherry\n"
          ]
        }
      ]
    },
    {
      "cell_type": "code",
      "source": [
        "# return values\n",
        "\n",
        "def my_function(x):\n",
        "    return 5 * x\n",
        "\n",
        "print(my_function(3))\n",
        "print(my_function(5))\n",
        "print(my_function(9))\n",
        "\n",
        "#"
      ],
      "metadata": {
        "colab": {
          "base_uri": "https://localhost:8080/"
        },
        "id": "RSEip-CjEQe0",
        "outputId": "9ca2a9ea-225e-4379-f327-dce9613ae213"
      },
      "execution_count": 13,
      "outputs": [
        {
          "output_type": "stream",
          "name": "stdout",
          "text": [
            "15\n",
            "25\n",
            "45\n"
          ]
        }
      ]
    },
    {
      "cell_type": "code",
      "source": [
        "# the pass statement\n",
        "\n",
        "def myfunction():\n",
        "    pass\n",
        "\n",
        "#"
      ],
      "metadata": {
        "id": "ZLfiPRV7EVwr"
      },
      "execution_count": 14,
      "outputs": []
    },
    {
      "cell_type": "code",
      "source": [
        "# positional only arguments\n",
        "\n",
        "# you can specify that a function can have only positional arguments, or only keywords arguments\n",
        "\n",
        "def my_function(x, /):\n",
        "  print(x)\n",
        "\n",
        "my_function(3)\n",
        "\n",
        "def my_function(x):\n",
        "  print(x)\n",
        "\n",
        "my_function(x = 3)\n",
        "\n",
        "# def my_function(x, /):\n",
        "#   print(x)\n",
        "\n",
        "# my_function(x = 3)  error"
      ],
      "metadata": {
        "colab": {
          "base_uri": "https://localhost:8080/"
        },
        "id": "P7-mzepAEk8P",
        "outputId": "238f2470-a9d7-4470-d436-787368506319"
      },
      "execution_count": 19,
      "outputs": [
        {
          "output_type": "stream",
          "name": "stdout",
          "text": [
            "1 2 3 4 5\n",
            "3\n",
            "3\n"
          ]
        }
      ]
    },
    {
      "cell_type": "code",
      "source": [
        "# keyword only arguments\n",
        "\n",
        "def my_function(*, arg1, arg2):\n",
        "    print(arg1, arg2)\n",
        "\n",
        "my_function(arg1=3, arg2=4)\n",
        "\n",
        "# def my_function(*, arg1, arg2):\n",
        "#     print(arg1, arg2)\n",
        "\n",
        "# my_function(3, 4)  error"
      ],
      "metadata": {
        "colab": {
          "base_uri": "https://localhost:8080/"
        },
        "id": "xcG2GUoeFAsC",
        "outputId": "75eb3363-c697-4fa9-ff9f-b6007465e957"
      },
      "execution_count": 20,
      "outputs": [
        {
          "output_type": "stream",
          "name": "stdout",
          "text": [
            "3 4\n"
          ]
        }
      ]
    },
    {
      "cell_type": "code",
      "source": [
        "# combined positional and keyword only\n",
        "\n",
        "def f(pos1, pos2, /, pos_or_kwd, *, kwd1, kwd2):\n",
        "    print(pos1, pos2, pos_or_kwd, kwd1, kwd2)\n",
        "\n",
        "\n",
        "f(1, 2, 3, kwd1=4, kwd2=5)"
      ],
      "metadata": {
        "colab": {
          "base_uri": "https://localhost:8080/"
        },
        "id": "Uv6GYR0FF4Xz",
        "outputId": "1a48e993-6582-4541-bc66-669d713c77d0"
      },
      "execution_count": 21,
      "outputs": [
        {
          "output_type": "stream",
          "name": "stdout",
          "text": [
            "1 2 3 4 5\n"
          ]
        }
      ]
    },
    {
      "cell_type": "code",
      "source": [
        "# recursion\n",
        "\n",
        "def tri_recursion(k):\n",
        "    if(k > 0):\n",
        "        result = k + tri_recursion(k - 1)\n",
        "        print(result)\n",
        "    else:\n",
        "        result = 0\n",
        "    return result\n",
        "\n",
        "print(\"\\n\\nRecursion Example Results\")\n",
        "tri_recursion(6)"
      ],
      "metadata": {
        "colab": {
          "base_uri": "https://localhost:8080/"
        },
        "id": "eN2kIcsSGOFt",
        "outputId": "ce5a7d24-4e23-4954-9d0f-cb1fe1644f30"
      },
      "execution_count": 22,
      "outputs": [
        {
          "output_type": "stream",
          "name": "stdout",
          "text": [
            "\n",
            "\n",
            "Recursion Example Results\n",
            "1\n",
            "3\n",
            "6\n",
            "10\n",
            "15\n",
            "21\n"
          ]
        },
        {
          "output_type": "execute_result",
          "data": {
            "text/plain": [
              "21"
            ]
          },
          "metadata": {},
          "execution_count": 22
        }
      ]
    },
    {
      "cell_type": "code",
      "source": [],
      "metadata": {
        "id": "0OYN1YS2HlTy"
      },
      "execution_count": null,
      "outputs": []
    }
  ]
}