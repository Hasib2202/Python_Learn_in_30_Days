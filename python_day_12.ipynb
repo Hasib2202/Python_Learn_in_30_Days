{
  "nbformat": 4,
  "nbformat_minor": 0,
  "metadata": {
    "colab": {
      "provenance": []
    },
    "kernelspec": {
      "name": "python3",
      "display_name": "Python 3"
    },
    "language_info": {
      "name": "python"
    }
  },
  "cells": [
    {
      "cell_type": "code",
      "execution_count": 2,
      "metadata": {
        "colab": {
          "base_uri": "https://localhost:8080/"
        },
        "id": "r5vqhQEiRKzo",
        "outputId": "2d21704a-7c22-4fb3-81a6-e569ed5cd8d2"
      },
      "outputs": [
        {
          "output_type": "stream",
          "name": "stdout",
          "text": [
            "5\n",
            "5\n"
          ]
        }
      ],
      "source": [
        "# Python class / object\n",
        "\n",
        "# Python is an object oriented programming languages\n",
        "\n",
        "# Almost everything in Python is an object, with its properties and methods\n",
        "\n",
        "# A Class is like an object constructor, or a \"blueprint\" for creating objects\n",
        "\n",
        "class MyClass:\n",
        "    x = 5\n",
        "\n",
        "p1 = MyClass()\n",
        "p2 = MyClass()\n",
        "print(p1.x)\n",
        "print(p2.x)"
      ]
    },
    {
      "cell_type": "code",
      "source": [
        "# The _init_() function\n",
        "\n"
      ],
      "metadata": {
        "id": "IR1TyzQoRqTR"
      },
      "execution_count": null,
      "outputs": []
    }
  ]
}