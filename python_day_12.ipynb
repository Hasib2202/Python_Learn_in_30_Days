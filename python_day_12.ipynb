{
  "nbformat": 4,
  "nbformat_minor": 0,
  "metadata": {
    "colab": {
      "provenance": []
    },
    "kernelspec": {
      "name": "python3",
      "display_name": "Python 3"
    },
    "language_info": {
      "name": "python"
    }
  },
  "cells": [
    {
      "cell_type": "code",
      "execution_count": null,
      "metadata": {
        "colab": {
          "base_uri": "https://localhost:8080/"
        },
        "id": "r5vqhQEiRKzo",
        "outputId": "2d21704a-7c22-4fb3-81a6-e569ed5cd8d2"
      },
      "outputs": [
        {
          "output_type": "stream",
          "name": "stdout",
          "text": [
            "5\n",
            "5\n"
          ]
        }
      ],
      "source": [
        "# Python class / object\n",
        "\n",
        "# Python is an object oriented programming languages\n",
        "\n",
        "# Almost everything in Python is an object, with its properties and methods\n",
        "\n",
        "# A Class is like an object constructor, or a \"blueprint\" for creating objects\n",
        "\n",
        "class MyClass:\n",
        "    x = 5\n",
        "\n",
        "p1 = MyClass()\n",
        "p2 = MyClass()\n",
        "print(p1.x)\n",
        "print(p2.x)"
      ]
    },
    {
      "cell_type": "code",
      "source": [
        "# # The _init_() function\n",
        "\n",
        "# The example above are classes and objects in their simplest form, and are not really useful in real life applications\n",
        "\n",
        "# To understand the meaning of classes we have to understand the built-in __init__() function\n",
        "\n",
        "# All classes have a function called __init__(), which is always executed when the class is being initiated\n",
        "\n",
        "# Use the __init__() function to assign values to object properties, or other operations that are necessary to do when the object is being created\n",
        "\n",
        "class Person:\n",
        "    def __init__(self, name, age):\n",
        "        self.name = name\n",
        "        self.age = age\n",
        "\n",
        "p1 = Person(\"John\", 36)\n",
        "\n",
        "print(p1.name)\n",
        "print(p1.age)"
      ],
      "metadata": {
        "id": "IR1TyzQoRqTR",
        "colab": {
          "base_uri": "https://localhost:8080/"
        },
        "outputId": "a332ef7b-7f57-4f18-af53-b48e9b17a79e"
      },
      "execution_count": 1,
      "outputs": [
        {
          "output_type": "stream",
          "name": "stdout",
          "text": [
            "John\n",
            "36\n"
          ]
        }
      ]
    },
    {
      "cell_type": "code",
      "source": [
        "# The _str() function\n",
        "\n",
        "# The __str__() function controls what should be returned when the class object is represented as a string\n",
        "\n",
        "# If the __str__() function is not set, the string representation of the object is returned\n",
        "\n",
        "class Person:\n",
        "    def __init__(self, name, age):\n",
        "        self.name = name\n",
        "        self.age = age\n",
        "\n",
        "    def __str__(self):\n",
        "        return f\"{self.name}({self.age})\"\n",
        "\n",
        "p1 = Person(\"John\", 36)\n",
        "\n",
        "print(p1)"
      ],
      "metadata": {
        "colab": {
          "base_uri": "https://localhost:8080/"
        },
        "id": "JaeyV4Pznls4",
        "outputId": "cccd2d6c-444a-4122-be25-c4e2244cc232"
      },
      "execution_count": 2,
      "outputs": [
        {
          "output_type": "stream",
          "name": "stdout",
          "text": [
            "John(36)\n"
          ]
        }
      ]
    },
    {
      "cell_type": "code",
      "source": [
        "# Object Methods\n",
        "\n",
        "# Objects can also contain methods. Methods in objects are functions that belong to the object\n",
        "\n",
        "class Car:\n",
        "  def __init__(self, name, price):\n",
        "    self.name = name\n",
        "    self.price = price\n",
        "\n",
        "  def myfunc(self):\n",
        "    print(\"This car name is \" + self.name)\n",
        "    print(\"This car price is \" + str(self.price))\n",
        "\n",
        "p1 = Car(\"Ford\", 10000)\n",
        "p1.myfunc()\n",
        "#Note: The self parameter is a reference to the current instance of the class, and is used to access variables that belong to the class."
      ],
      "metadata": {
        "colab": {
          "base_uri": "https://localhost:8080/"
        },
        "id": "ilEACnoBoVg-",
        "outputId": "2db3112d-a27c-4cb0-90b7-19bdd0ad6726"
      },
      "execution_count": 5,
      "outputs": [
        {
          "output_type": "stream",
          "name": "stdout",
          "text": [
            "This car name is Ford\n",
            "This car price is 10000\n"
          ]
        }
      ]
    },
    {
      "cell_type": "code",
      "source": [
        "# The self Parameter\n",
        "\n",
        "# The self parameter is a reference to the current instance of the class, and is used to access variables that belongs to the class.\n",
        "\n",
        "# It does not have to be named self , you can call it whatever you like, but it has to be the first parameter of any function in the class:\n",
        "\n",
        "\n",
        "class Car:\n",
        "  def __init__(mysillyobject, name, price):\n",
        "    mysillyobject.name = name\n",
        "    mysillyobject.price = price\n",
        "\n",
        "  def myfunc(abc):\n",
        "    print(\"This car name is \" + abc.name)\n",
        "    print(\"This car price is \" + str(abc.price))\n",
        "\n",
        "p1 = Car(\"Ford\", 10000)\n",
        "p1.myfunc()"
      ],
      "metadata": {
        "colab": {
          "base_uri": "https://localhost:8080/"
        },
        "id": "WE3EuFIUpgRJ",
        "outputId": "274fde18-83b0-427a-a488-c5c446061983"
      },
      "execution_count": 13,
      "outputs": [
        {
          "output_type": "stream",
          "name": "stdout",
          "text": [
            "This car name is Ford\n",
            "This car price is 10000\n"
          ]
        }
      ]
    },
    {
      "cell_type": "code",
      "source": [
        "# Modify Object Properties\n",
        "\n",
        "# You can modify properties on objects like this\n",
        "\n",
        "p1.price = 20000\n",
        "p1.myfunc()"
      ],
      "metadata": {
        "colab": {
          "base_uri": "https://localhost:8080/"
        },
        "id": "bPs5OTyUqNr8",
        "outputId": "d137bba8-a809-4d9e-d076-93d4746f7a01"
      },
      "execution_count": 7,
      "outputs": [
        {
          "output_type": "stream",
          "name": "stdout",
          "text": [
            "This car name is Ford\n",
            "This car price is 20000\n"
          ]
        }
      ]
    },
    {
      "cell_type": "code",
      "source": [
        "# Delete Object Properties\n",
        "\n",
        "# You can delete properties on objects by using the del keyword:\n",
        "\n",
        "del p1.price\n",
        "# p1.myfunc()"
      ],
      "metadata": {
        "colab": {
          "base_uri": "https://localhost:8080/",
          "height": 315
        },
        "id": "lTAgkweEqXR-",
        "outputId": "3613bc34-d759-4d4f-ec4f-cb0df5acff42"
      },
      "execution_count": 14,
      "outputs": [
        {
          "output_type": "stream",
          "name": "stdout",
          "text": [
            "This car name is Ford\n"
          ]
        },
        {
          "output_type": "error",
          "ename": "AttributeError",
          "evalue": "'Car' object has no attribute 'price'",
          "traceback": [
            "\u001b[0;31m---------------------------------------------------------------------------\u001b[0m",
            "\u001b[0;31mAttributeError\u001b[0m                            Traceback (most recent call last)",
            "\u001b[0;32m<ipython-input-14-2cef7de1619b>\u001b[0m in \u001b[0;36m<cell line: 6>\u001b[0;34m()\u001b[0m\n\u001b[1;32m      4\u001b[0m \u001b[0;34m\u001b[0m\u001b[0m\n\u001b[1;32m      5\u001b[0m \u001b[0;32mdel\u001b[0m \u001b[0mp1\u001b[0m\u001b[0;34m.\u001b[0m\u001b[0mprice\u001b[0m\u001b[0;34m\u001b[0m\u001b[0;34m\u001b[0m\u001b[0m\n\u001b[0;32m----> 6\u001b[0;31m \u001b[0mp1\u001b[0m\u001b[0;34m.\u001b[0m\u001b[0mmyfunc\u001b[0m\u001b[0;34m(\u001b[0m\u001b[0;34m)\u001b[0m\u001b[0;34m\u001b[0m\u001b[0;34m\u001b[0m\u001b[0m\n\u001b[0m",
            "\u001b[0;32m<ipython-input-13-0cd929167ced>\u001b[0m in \u001b[0;36mmyfunc\u001b[0;34m(abc)\u001b[0m\n\u001b[1;32m     13\u001b[0m   \u001b[0;32mdef\u001b[0m \u001b[0mmyfunc\u001b[0m\u001b[0;34m(\u001b[0m\u001b[0mabc\u001b[0m\u001b[0;34m)\u001b[0m\u001b[0;34m:\u001b[0m\u001b[0;34m\u001b[0m\u001b[0;34m\u001b[0m\u001b[0m\n\u001b[1;32m     14\u001b[0m     \u001b[0mprint\u001b[0m\u001b[0;34m(\u001b[0m\u001b[0;34m\"This car name is \"\u001b[0m \u001b[0;34m+\u001b[0m \u001b[0mabc\u001b[0m\u001b[0;34m.\u001b[0m\u001b[0mname\u001b[0m\u001b[0;34m)\u001b[0m\u001b[0;34m\u001b[0m\u001b[0;34m\u001b[0m\u001b[0m\n\u001b[0;32m---> 15\u001b[0;31m     \u001b[0mprint\u001b[0m\u001b[0;34m(\u001b[0m\u001b[0;34m\"This car price is \"\u001b[0m \u001b[0;34m+\u001b[0m \u001b[0mstr\u001b[0m\u001b[0;34m(\u001b[0m\u001b[0mabc\u001b[0m\u001b[0;34m.\u001b[0m\u001b[0mprice\u001b[0m\u001b[0;34m)\u001b[0m\u001b[0;34m)\u001b[0m\u001b[0;34m\u001b[0m\u001b[0;34m\u001b[0m\u001b[0m\n\u001b[0m\u001b[1;32m     16\u001b[0m \u001b[0;34m\u001b[0m\u001b[0m\n\u001b[1;32m     17\u001b[0m \u001b[0mp1\u001b[0m \u001b[0;34m=\u001b[0m \u001b[0mCar\u001b[0m\u001b[0;34m(\u001b[0m\u001b[0;34m\"Ford\"\u001b[0m\u001b[0;34m,\u001b[0m \u001b[0;36m10000\u001b[0m\u001b[0;34m)\u001b[0m\u001b[0;34m\u001b[0m\u001b[0;34m\u001b[0m\u001b[0m\n",
            "\u001b[0;31mAttributeError\u001b[0m: 'Car' object has no attribute 'price'"
          ]
        }
      ]
    },
    {
      "cell_type": "code",
      "source": [
        "# Delete Objects\n",
        "\n",
        "# You can delete objects by using the del keyword\n",
        "\n",
        "del p1\n",
        "# p1.myfunc()"
      ],
      "metadata": {
        "id": "jqck6wMAqcnF"
      },
      "execution_count": 15,
      "outputs": []
    },
    {
      "cell_type": "code",
      "source": [
        "# The pass Statement\n",
        "\n",
        "# class definitions cannot be empty, but if you for some reason have a class definition with no content, put in the pass statement to avoid getting an error.\n",
        "\n",
        "class Car:\n",
        "  pass"
      ],
      "metadata": {
        "id": "szXACtwkqvHH"
      },
      "execution_count": null,
      "outputs": []
    }
  ]
}