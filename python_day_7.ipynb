{
  "nbformat": 4,
  "nbformat_minor": 0,
  "metadata": {
    "colab": {
      "provenance": []
    },
    "kernelspec": {
      "name": "python3",
      "display_name": "Python 3"
    },
    "language_info": {
      "name": "python"
    }
  },
  "cells": [
    {
      "cell_type": "code",
      "execution_count": 1,
      "metadata": {
        "colab": {
          "base_uri": "https://localhost:8080/"
        },
        "id": "nVu_07Hk535v",
        "outputId": "fe7e8d50-c5c8-4e2f-85d4-e451b1c5d786"
      },
      "outputs": [
        {
          "output_type": "stream",
          "name": "stdout",
          "text": [
            "Ford\n",
            "Volvo\n",
            "BMW\n"
          ]
        }
      ],
      "source": [
        "# Python Unpack Tuples\n",
        "\n",
        "# When we create a tuple, we assign values to it. This is called \"packing\" a tuple:\n",
        "\n",
        "cars = (\"Ford\", \"Volvo\", \"BMW\")\n",
        "\n",
        "# But, in Python, we are also allowed to extract the values back into variables. This is called \"unpacking\":\n",
        "\n",
        "(car1, car2, car3) = cars\n",
        "\n",
        "print(car1)\n",
        "print(car2)\n",
        "print(car3)"
      ]
    },
    {
      "cell_type": "code",
      "source": [
        "# Using Asterisk\n",
        "\n",
        "# if the number of variables is less than the number of values, you can add an * to the variable name and the values will be assigned to the variable as a list\n",
        "\n",
        "cars = (\"Ford\", \"Volvo\", \"BMW\", \"Toyota\", \"Tesla\")\n",
        "\n",
        "(car1, car2, *car3) = cars\n",
        "\n",
        "print(car1)\n",
        "print(car2)\n",
        "print(car3)"
      ],
      "metadata": {
        "colab": {
          "base_uri": "https://localhost:8080/"
        },
        "id": "ZutQC9cw6txA",
        "outputId": "b6e98d52-74cf-44fd-cce5-715383bb598a"
      },
      "execution_count": 2,
      "outputs": [
        {
          "output_type": "stream",
          "name": "stdout",
          "text": [
            "Ford\n",
            "Volvo\n",
            "['BMW', 'Toyota', 'Tesla']\n"
          ]
        }
      ]
    },
    {
      "cell_type": "code",
      "source": [
        "# if the asterisk is added to another variable name than the last, Python will assign values to the variable\n",
        "#until the number of values left matches the number of variables left.\n",
        "\n",
        "cars = (\"Ford\", \"Volvo\", \"BMW\", \"Toyota\", \"Tesla\")\n",
        "\n",
        "(car1, *car2, car3) = cars\n",
        "\n",
        "print(car1)\n",
        "print(car2)\n",
        "print(car3)"
      ],
      "metadata": {
        "colab": {
          "base_uri": "https://localhost:8080/"
        },
        "id": "C0Z4pF0g7FMs",
        "outputId": "8ce8f199-aa06-4207-ea27-d77b0b221d71"
      },
      "execution_count": 3,
      "outputs": [
        {
          "output_type": "stream",
          "name": "stdout",
          "text": [
            "Ford\n",
            "['Volvo', 'BMW', 'Toyota']\n",
            "Tesla\n"
          ]
        }
      ]
    },
    {
      "cell_type": "code",
      "source": [
        "#  Loop Tuples\n",
        "\n",
        "# you can loop through the tuple items by using a for loop.\n",
        "\n",
        "cars = (\"Ford\", \"Volvo\", \"BMW\")\n",
        "for x in cars:\n",
        "  print(x)"
      ],
      "metadata": {
        "colab": {
          "base_uri": "https://localhost:8080/"
        },
        "id": "zBYQ-o7N7oY1",
        "outputId": "6640f42d-fd62-420a-a82f-c6870876004f"
      },
      "execution_count": 4,
      "outputs": [
        {
          "output_type": "stream",
          "name": "stdout",
          "text": [
            "Ford\n",
            "Volvo\n",
            "BMW\n"
          ]
        }
      ]
    },
    {
      "cell_type": "code",
      "source": [
        "# loop through the index numbers\n",
        "\n",
        "cars = (\"Ford\", \"Volvo\", \"BMW\")\n",
        "for i in range(len(cars)):\n",
        "  print(cars[i])"
      ],
      "metadata": {
        "colab": {
          "base_uri": "https://localhost:8080/"
        },
        "id": "pjMNKKnX72XC",
        "outputId": "c73fb94a-ca9d-4d10-d2fd-68d66953a765"
      },
      "execution_count": 5,
      "outputs": [
        {
          "output_type": "stream",
          "name": "stdout",
          "text": [
            "Ford\n",
            "Volvo\n",
            "BMW\n"
          ]
        }
      ]
    },
    {
      "cell_type": "code",
      "source": [
        "# using while loop\n",
        "\n",
        "cars = (\"Ford\", \"Volvo\", \"BMW\")\n",
        "i = 0\n",
        "while i < len(cars):\n",
        "  print(cars[i])\n",
        "  i = i + 1"
      ],
      "metadata": {
        "colab": {
          "base_uri": "https://localhost:8080/"
        },
        "id": "esaRWXbr7-9F",
        "outputId": "dbaae491-71e2-4c5a-b16e-649fa8a93f24"
      },
      "execution_count": 6,
      "outputs": [
        {
          "output_type": "stream",
          "name": "stdout",
          "text": [
            "Ford\n",
            "Volvo\n",
            "BMW\n"
          ]
        }
      ]
    },
    {
      "cell_type": "code",
      "source": [
        "# join tuples\n",
        "\n",
        "# join two tuples\n",
        "\n",
        "tuple1 = (\"a\", \"b\" , \"c\")\n",
        "tuple2 = (1, 2, 3)\n",
        "\n",
        "tuple3 = tuple1 + tuple2\n",
        "print(tuple3)"
      ],
      "metadata": {
        "colab": {
          "base_uri": "https://localhost:8080/"
        },
        "id": "2GNWCvvr8FzW",
        "outputId": "3ae805bc-aced-4672-cb03-b3f1d9a33771"
      },
      "execution_count": 7,
      "outputs": [
        {
          "output_type": "stream",
          "name": "stdout",
          "text": [
            "('a', 'b', 'c', 1, 2, 3)\n"
          ]
        }
      ]
    },
    {
      "cell_type": "code",
      "source": [
        "# multiply tuples\n",
        "\n",
        "cars = (\"Ford\", \"Volvo\", \"BMW\")\n",
        "mytuple = cars * 2\n",
        "\n",
        "print(mytuple)"
      ],
      "metadata": {
        "colab": {
          "base_uri": "https://localhost:8080/"
        },
        "id": "fQv26hzr8RI_",
        "outputId": "da130dfd-3fdb-48d3-e137-25c24bcb0045"
      },
      "execution_count": 8,
      "outputs": [
        {
          "output_type": "stream",
          "name": "stdout",
          "text": [
            "('Ford', 'Volvo', 'BMW', 'Ford', 'Volvo', 'BMW')\n"
          ]
        }
      ]
    },
    {
      "cell_type": "code",
      "source": [
        "# Tuple methods\n",
        "\n",
        "# Python has two built-in methods that you can use on tuples.\n",
        "\n",
        "# count()\tReturns the number of times a specified value occurs in a tuple\n",
        "# index()\tSearches the tuple for a specified value and returns the position of where it was found"
      ],
      "metadata": {
        "id": "SouzZCg98W0i"
      },
      "execution_count": 9,
      "outputs": []
    },
    {
      "cell_type": "code",
      "source": [],
      "metadata": {
        "id": "Nrsnutpz8ina"
      },
      "execution_count": null,
      "outputs": []
    }
  ]
}