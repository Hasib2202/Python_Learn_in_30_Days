{
  "nbformat": 4,
  "nbformat_minor": 0,
  "metadata": {
    "colab": {
      "provenance": []
    },
    "kernelspec": {
      "name": "python3",
      "display_name": "Python 3"
    },
    "language_info": {
      "name": "python"
    }
  },
  "cells": [
    {
      "cell_type": "markdown",
      "source": [
        "## *Python Loop List*"
      ],
      "metadata": {
        "id": "9mZ5iqmRe9NL"
      }
    },
    {
      "cell_type": "code",
      "execution_count": 2,
      "metadata": {
        "colab": {
          "base_uri": "https://localhost:8080/"
        },
        "id": "asFBe_k_e3Pz",
        "outputId": "84892986-2a89-4ef8-bf64-a6aaa58263ab"
      },
      "outputs": [
        {
          "output_type": "stream",
          "name": "stdout",
          "text": [
            "Toyota\n",
            "Honda\n",
            "BMW\n"
          ]
        }
      ],
      "source": [
        "cars = [\"Toyota\", \"Honda\", \"BMW\"]\n",
        "for i in cars:\n",
        "    print(i)"
      ]
    },
    {
      "cell_type": "code",
      "source": [
        "# Loop Through Index Number\n",
        "# Use range() and len() for that\n",
        "cars = [\"Toyota\", \"Honda\", \"BMW\"]\n",
        "for i in range(len(cars)):\n",
        "    print(cars[i])"
      ],
      "metadata": {
        "colab": {
          "base_uri": "https://localhost:8080/"
        },
        "id": "pIxlKVt8hP0s",
        "outputId": "3b7545e8-2b3f-4935-b146-3eb4159b4830"
      },
      "execution_count": 3,
      "outputs": [
        {
          "output_type": "stream",
          "name": "stdout",
          "text": [
            "Toyota\n",
            "Honda\n",
            "BMW\n"
          ]
        }
      ]
    },
    {
      "cell_type": "code",
      "source": [
        "# Using a While Loop\n",
        "cars = [\"Toyota\", \"Honda\", \"BMW\"]\n",
        "i = 0\n",
        "while i < len(cars):\n",
        "    print(cars[i])\n",
        "    i = i + 1"
      ],
      "metadata": {
        "colab": {
          "base_uri": "https://localhost:8080/"
        },
        "id": "HFc5sR6Shc5L",
        "outputId": "4a6c1f05-175d-423e-9e9c-af18c32829f8"
      },
      "execution_count": 4,
      "outputs": [
        {
          "output_type": "stream",
          "name": "stdout",
          "text": [
            "Toyota\n",
            "Honda\n",
            "BMW\n"
          ]
        }
      ]
    },
    {
      "cell_type": "code",
      "source": [
        "# Looping Using List Comprehension\n",
        "\n",
        "# List Comprehension offers the shortest syntax for looping through lists:\n",
        "\n",
        "cars = [\"Toyota\", \"Honda\", \"BMW\"]\n",
        "[print(x) for x in cars]"
      ],
      "metadata": {
        "colab": {
          "base_uri": "https://localhost:8080/"
        },
        "id": "qBHuaBJ8hw3o",
        "outputId": "bd59127a-51ad-4284-9d3b-4cafaefbec89"
      },
      "execution_count": 5,
      "outputs": [
        {
          "output_type": "stream",
          "name": "stdout",
          "text": [
            "Toyota\n",
            "Honda\n",
            "BMW\n"
          ]
        },
        {
          "output_type": "execute_result",
          "data": {
            "text/plain": [
              "[None, None, None]"
            ]
          },
          "metadata": {},
          "execution_count": 5
        }
      ]
    },
    {
      "cell_type": "code",
      "source": [
        "# List Comprehension\n",
        "\n",
        "# List comprehension offers a shorter syntax when you want to create a new list based on the values of an existing list.\n",
        "\n",
        "cars = [\"Toyota\", \"Honda\", \"BMW\"]\n",
        "newlist = []\n",
        "\n",
        "for x in cars:\n",
        "    if \"a\" in x:\n",
        "        newlist.append(x)\n",
        "print(newlist)"
      ],
      "metadata": {
        "colab": {
          "base_uri": "https://localhost:8080/"
        },
        "id": "l1sRxPtFiNes",
        "outputId": "562c12db-e8d4-4a53-a497-ff3e338b5541"
      },
      "execution_count": 6,
      "outputs": [
        {
          "output_type": "stream",
          "name": "stdout",
          "text": [
            "['Toyota', 'Honda']\n"
          ]
        }
      ]
    },
    {
      "cell_type": "code",
      "source": [
        "cars = [\"Toyota\", \"Honda\", \"BMW\"]\n",
        "newlist = [x for x in cars if \"a\" in x]\n",
        "print(newlist)"
      ],
      "metadata": {
        "colab": {
          "base_uri": "https://localhost:8080/"
        },
        "id": "JUdkmpTPk5HL",
        "outputId": "6bf9267e-3b44-48ba-86f5-f4dc111fafb7"
      },
      "execution_count": 7,
      "outputs": [
        {
          "output_type": "stream",
          "name": "stdout",
          "text": [
            "['Toyota', 'Honda']\n"
          ]
        }
      ]
    },
    {
      "cell_type": "code",
      "source": [
        "# The Syntax\n",
        "# newlist = [expression for item in iterable if condition == True]\n",
        "\n",
        "# The return value is a new list, leaving the old list unchanged.\n",
        "\n",
        "cars = [\"Toyota\", \"Honda\", \"BMW\"]\n",
        "newlist = [x for x in cars if x != \"Honda\"]\n",
        "print(newlist)\n",
        "print(cars)\n",
        "update_list = [x for x in cars if x != \"Honda\"]\n",
        "print(update_list)"
      ],
      "metadata": {
        "colab": {
          "base_uri": "https://localhost:8080/"
        },
        "id": "iFS377lylBsM",
        "outputId": "12655c10-375b-4523-941b-17b64966de76"
      },
      "execution_count": 10,
      "outputs": [
        {
          "output_type": "stream",
          "name": "stdout",
          "text": [
            "['Toyota', 'BMW']\n",
            "['Toyota', 'Honda', 'BMW']\n",
            "['Toyota', 'BMW']\n"
          ]
        }
      ]
    },
    {
      "cell_type": "code",
      "source": [
        "# Iterable\n",
        "# The iterable can be any iterable object, like a list, tuple, set etc.\n",
        "\n",
        "cars = [\"Toyota\", \"Honda\", \"BMW\"]\n",
        "newlist = [x for x in range(10)]\n",
        "print(newlist)\n",
        "update_list = [x for x in range(10) if x < 5]\n",
        "print(update_list)"
      ],
      "metadata": {
        "colab": {
          "base_uri": "https://localhost:8080/"
        },
        "id": "HYhbX5gMlSBd",
        "outputId": "40b4b3f3-d39d-477c-d8e3-c81aad07763b"
      },
      "execution_count": 12,
      "outputs": [
        {
          "output_type": "stream",
          "name": "stdout",
          "text": [
            "[0, 1, 2, 3, 4, 5, 6, 7, 8, 9]\n",
            "[0, 1, 2, 3, 4]\n"
          ]
        }
      ]
    },
    {
      "cell_type": "code",
      "source": [
        "# Expression\n",
        "# The expression is the current item in the iteration, but it is also the outcome, which you can\n",
        "# manipulate before it ends up like a list item in the new list:\n",
        "\n",
        "cars = [\"Toyota\", \"Honda\", \"BMW\"]\n",
        "newlist = [x.upper() for x in cars]\n",
        "print(newlist)\n",
        "update_list = ['hello' for x in cars]\n",
        "print(update_list)\n",
        "\n",
        "fruits = [\"apple\", \"banana\", \"cherry\", \"kiwi\", \"mango\"]\n",
        "newlist = [x if x != \"banana\" else \"orange\" for x in fruits]\n",
        "print(newlist)"
      ],
      "metadata": {
        "colab": {
          "base_uri": "https://localhost:8080/"
        },
        "id": "UwuUWNp4l2v4",
        "outputId": "01dd2a74-b583-4498-97fb-3ec0bee4cf23"
      },
      "execution_count": 16,
      "outputs": [
        {
          "output_type": "stream",
          "name": "stdout",
          "text": [
            "['TOYOTA', 'HONDA', 'BMW']\n",
            "['hello', 'hello', 'hello']\n",
            "['apple', 'orange', 'cherry', 'kiwi', 'mango']\n"
          ]
        }
      ]
    },
    {
      "cell_type": "code",
      "source": [
        "# Sort List Alphanumerically\n",
        "\n",
        "# List objects have a sort() method that will sort the list alphanumerically, ascending, by default:\n",
        "\n",
        "cars = [\"Toyota\", \"Honda\", \"BMW\"]\n",
        "cars.sort()\n",
        "print(cars)"
      ],
      "metadata": {
        "colab": {
          "base_uri": "https://localhost:8080/"
        },
        "id": "yrJlcbHFmNM5",
        "outputId": "c15fe968-0f68-4fb1-ff2b-bef4a63eaabc"
      },
      "execution_count": 17,
      "outputs": [
        {
          "output_type": "stream",
          "name": "stdout",
          "text": [
            "['BMW', 'Honda', 'Toyota']\n"
          ]
        }
      ]
    },
    {
      "cell_type": "code",
      "source": [
        "numbers = [100, 50, 65, 82, 23]\n",
        "numbers.sort()\n",
        "print(numbers)"
      ],
      "metadata": {
        "colab": {
          "base_uri": "https://localhost:8080/"
        },
        "id": "x22vk4x1m1bC",
        "outputId": "ebc54e3b-fb33-4d86-9f63-9b81c9f32a75"
      },
      "execution_count": 18,
      "outputs": [
        {
          "output_type": "stream",
          "name": "stdout",
          "text": [
            "[23, 50, 65, 82, 100]\n"
          ]
        }
      ]
    },
    {
      "cell_type": "code",
      "source": [
        "# Decending\n",
        "\n",
        "cars = [\"Toyota\", \"Honda\", \"BMW\"]\n",
        "cars.sort(reverse = True)\n",
        "print(cars)\n",
        "\n",
        "numbers =  [100, 50, 65, 82, 23]\n",
        "numbers.sort(reverse = True)\n",
        "print(numbers)"
      ],
      "metadata": {
        "colab": {
          "base_uri": "https://localhost:8080/"
        },
        "id": "_MZIbeHYm5ul",
        "outputId": "cbe5c53e-72d1-4f26-c205-c6ee9e5cd52e"
      },
      "execution_count": 20,
      "outputs": [
        {
          "output_type": "stream",
          "name": "stdout",
          "text": [
            "['Toyota', 'Honda', 'BMW']\n",
            "[100, 82, 65, 50, 23]\n"
          ]
        }
      ]
    },
    {
      "cell_type": "code",
      "source": [
        "# Customize Sort Function\n",
        "\n",
        "def myfunc(n):\n",
        "    return abs(n - 50)\n",
        "\n",
        "numbers = [100, 50, 65, 82, 23]\n",
        "numbers.sort(key = myfunc)\n",
        "print(numbers)"
      ],
      "metadata": {
        "colab": {
          "base_uri": "https://localhost:8080/"
        },
        "id": "74KvHMJ1m9f8",
        "outputId": "b727afea-0eec-455f-d7c5-1bb8d031dc59"
      },
      "execution_count": 21,
      "outputs": [
        {
          "output_type": "stream",
          "name": "stdout",
          "text": [
            "[50, 65, 23, 82, 100]\n"
          ]
        }
      ]
    },
    {
      "cell_type": "code",
      "source": [
        "# Case Insensitive Sort\n",
        "\n",
        "cars = [\"Toyota\", \"Honda\", \"bmw\"]\n",
        "a = [x.upper() for x in cars]\n",
        "print(a)\n",
        "a.sort()\n",
        "print(a)\n",
        "cars.sort()\n",
        "print(cars)"
      ],
      "metadata": {
        "colab": {
          "base_uri": "https://localhost:8080/"
        },
        "id": "Spq2GTTQn63v",
        "outputId": "1581cf0f-2450-4387-c65f-2296690fade9"
      },
      "execution_count": 28,
      "outputs": [
        {
          "output_type": "stream",
          "name": "stdout",
          "text": [
            "['TOYOTA', 'HONDA', 'BMW']\n",
            "['BMW', 'HONDA', 'TOYOTA']\n",
            "['Honda', 'Toyota', 'bmw']\n"
          ]
        }
      ]
    },
    {
      "cell_type": "code",
      "source": [
        "# Perfor a case insensitive sort of the list\n",
        "\n",
        "cars = [\"Toyota\", \"Honda\", \"bmw\"]\n",
        "cars.sort(key = str.lower)\n",
        "x= cars.sort(key = str.upper)\n",
        "print(x)\n",
        "print(cars)"
      ],
      "metadata": {
        "colab": {
          "base_uri": "https://localhost:8080/"
        },
        "id": "ZDb6rc9RoAGZ",
        "outputId": "27118685-d110-43db-982c-9110e7656769"
      },
      "execution_count": 31,
      "outputs": [
        {
          "output_type": "stream",
          "name": "stdout",
          "text": [
            "None\n",
            "['bmw', 'Honda', 'Toyota']\n"
          ]
        }
      ]
    },
    {
      "cell_type": "code",
      "source": [
        "# Reverse Order\n",
        "\n",
        "cars = [\"Toyota\", \"Honda\", \"BMW\"]\n",
        "cars.reverse()\n",
        "print(cars)"
      ],
      "metadata": {
        "colab": {
          "base_uri": "https://localhost:8080/"
        },
        "id": "akS05XQipDVp",
        "outputId": "45047a79-661c-4804-9035-db623d8748c6"
      },
      "execution_count": 32,
      "outputs": [
        {
          "output_type": "stream",
          "name": "stdout",
          "text": [
            "['BMW', 'Honda', 'Toyota']\n"
          ]
        }
      ]
    },
    {
      "cell_type": "code",
      "source": [
        "# Copy List\n",
        "\n",
        "cars = [\"Toyota\", \"Honda\", \"BMW\"]\n",
        "newlist = cars.copy()\n",
        "print(newlist)"
      ],
      "metadata": {
        "colab": {
          "base_uri": "https://localhost:8080/"
        },
        "id": "lpiWTc1HpcZN",
        "outputId": "755480ed-8c64-43c0-8155-ebdc1915e927"
      },
      "execution_count": 33,
      "outputs": [
        {
          "output_type": "stream",
          "name": "stdout",
          "text": [
            "['Toyota', 'Honda', 'BMW']\n"
          ]
        }
      ]
    },
    {
      "cell_type": "code",
      "source": [
        "# Use the slice operator\n",
        "\n",
        "cars = [\"Toyota\", \"Honda\", \"BMW\"]\n",
        "newlist = cars[:]\n",
        "print(newlist)\n",
        "\n",
        "fruits = [\"apple\", \"banana\", \"cherry\", \"kiwi\", \"mango\"]\n",
        "newlist = fruits[2:5]\n",
        "print(newlist)"
      ],
      "metadata": {
        "colab": {
          "base_uri": "https://localhost:8080/"
        },
        "id": "4jYvgVz0pody",
        "outputId": "f48c6682-f5ec-4620-c342-a28e1277a92b"
      },
      "execution_count": 35,
      "outputs": [
        {
          "output_type": "stream",
          "name": "stdout",
          "text": [
            "['Toyota', 'Honda', 'BMW']\n",
            "['cherry', 'kiwi', 'mango']\n"
          ]
        }
      ]
    },
    {
      "cell_type": "code",
      "source": [
        "# Join list\n",
        "\n",
        "list1 = [\"a\", \"b\", \"c\"]\n",
        "list2 = [1, 2, 3]\n",
        "\n",
        "list3 = list1 + list2\n",
        "print(list3)"
      ],
      "metadata": {
        "colab": {
          "base_uri": "https://localhost:8080/"
        },
        "id": "sK-wi3sUpthQ",
        "outputId": "11964a97-0d46-4f2f-946b-51ee31f409c3"
      },
      "execution_count": 36,
      "outputs": [
        {
          "output_type": "stream",
          "name": "stdout",
          "text": [
            "['a', 'b', 'c', 1, 2, 3]\n"
          ]
        }
      ]
    },
    {
      "cell_type": "code",
      "source": [
        "list1 = [\"a\", \"b\", \"c\"]\n",
        "list2 = [1, 2, 3]\n",
        "\n",
        "for x in list2:\n",
        "    list1.append(x)\n",
        "print(list1)"
      ],
      "metadata": {
        "colab": {
          "base_uri": "https://localhost:8080/"
        },
        "id": "sGfy9RwGp8IP",
        "outputId": "144bfd4a-3e83-4cf2-eceb-d7b3b2eb9c78"
      },
      "execution_count": 37,
      "outputs": [
        {
          "output_type": "stream",
          "name": "stdout",
          "text": [
            "['a', 'b', 'c', 1, 2, 3]\n"
          ]
        }
      ]
    },
    {
      "cell_type": "code",
      "source": [
        "# Extend\n",
        "\n",
        "list1 = [\"a\", \"b\", \"c\"]\n",
        "list2 = [1, 2, 3]\n",
        "\n",
        "list1.extend(list2)\n",
        "print(list1)"
      ],
      "metadata": {
        "colab": {
          "base_uri": "https://localhost:8080/"
        },
        "id": "quscoRldqFM3",
        "outputId": "1aca734a-0921-41f0-eb93-282820f72ae4"
      },
      "execution_count": 38,
      "outputs": [
        {
          "output_type": "stream",
          "name": "stdout",
          "text": [
            "['a', 'b', 'c', 1, 2, 3]\n"
          ]
        }
      ]
    },
    {
      "cell_type": "code",
      "source": [
        "# # List Methods\n",
        "\n",
        "# # Python has a set of built-in methods that you can use on lists.\n",
        "\n",
        "# append()\n",
        "# clear()\n",
        "# copy()\n",
        "# count()\n",
        "# extend()\n",
        "# index()\n",
        "# insert()\n",
        "# pop()\n",
        "# remove()\n",
        "# reverse()\n",
        "# sort()\n"
      ],
      "metadata": {
        "id": "YdYfNLTdqQbp"
      },
      "execution_count": null,
      "outputs": []
    }
  ]
}