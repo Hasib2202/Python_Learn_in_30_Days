{
  "nbformat": 4,
  "nbformat_minor": 0,
  "metadata": {
    "colab": {
      "provenance": []
    },
    "kernelspec": {
      "name": "python3",
      "display_name": "Python 3"
    },
    "language_info": {
      "name": "python"
    }
  },
  "cells": [
    {
      "cell_type": "code",
      "execution_count": null,
      "metadata": {
        "id": "x7GJKhCaSB_y"
      },
      "outputs": [],
      "source": [
        "# Python Conditions and If Statements\n",
        "\n",
        "# Python Supporsts the usual logical conditon from mathematics:\n",
        "\n",
        "# Equals: a == b\n",
        "# Not Equals: a != b\n",
        "# Less than: a < b\n",
        "# Less than or equal to: a <= b\n",
        "# Greater than: a > b\n",
        "# Greater than or equal to: a >= b\n",
        "\n"
      ]
    },
    {
      "cell_type": "code",
      "source": [
        "# Example:\n",
        "\n",
        "a = 10\n",
        "b = 200\n",
        "\n",
        "if b > a:\n",
        "    print(\"b is greater than a\")"
      ],
      "metadata": {
        "colab": {
          "base_uri": "https://localhost:8080/"
        },
        "id": "SEZkUL5CSvUH",
        "outputId": "a2559f8c-0d5f-4965-faf8-6f12bedf616f"
      },
      "execution_count": 1,
      "outputs": [
        {
          "output_type": "stream",
          "name": "stdout",
          "text": [
            "b is greater than a\n"
          ]
        }
      ]
    },
    {
      "cell_type": "code",
      "source": [
        "# Elif\n",
        "\n",
        "a = 10\n",
        "b = 100\n",
        "\n",
        "if b > a:\n",
        "    print(\"b is greater than a\")\n",
        "elif a == b:\n",
        "    print(\"a and b are equal\")"
      ],
      "metadata": {
        "colab": {
          "base_uri": "https://localhost:8080/"
        },
        "id": "YHqP7XKfS6M_",
        "outputId": "5d117b88-cfb9-4383-d857-c8e1e66e8e0c"
      },
      "execution_count": 2,
      "outputs": [
        {
          "output_type": "stream",
          "name": "stdout",
          "text": [
            "b is greater than a\n"
          ]
        }
      ]
    },
    {
      "cell_type": "code",
      "source": [
        "# Else\n",
        "\n",
        "a = 200\n",
        "b = 100\n",
        "\n",
        "if b > a:\n",
        "    print(\"b is greater than a\")\n",
        "elif a == b:\n",
        "    print(\"a and b are equal\")\n",
        "else:\n",
        "    print(\"a is greater than b\")\n",
        "\n",
        "\n",
        "x = 200\n",
        "y = 33\n",
        "\n",
        "if x > y:\n",
        "  print(\"x is greater than y\")\n",
        "else:\n",
        "  print(\"x is not greater than y\")"
      ],
      "metadata": {
        "colab": {
          "base_uri": "https://localhost:8080/"
        },
        "id": "2gZtF14TTgjy",
        "outputId": "acd6d3a8-baa7-4e40-8060-fb1843fdac07"
      },
      "execution_count": 5,
      "outputs": [
        {
          "output_type": "stream",
          "name": "stdout",
          "text": [
            "a is greater than b\n",
            "x is greater than y\n"
          ]
        }
      ]
    },
    {
      "cell_type": "code",
      "source": [
        "# Write it in short\n",
        "a = 200\n",
        "b = 33\n",
        "if a > b: print(\"a is greater than b\")"
      ],
      "metadata": {
        "colab": {
          "base_uri": "https://localhost:8080/"
        },
        "id": "vXUtp_SrTm_8",
        "outputId": "66cbb626-06e3-448c-d1d9-73894f32f680"
      },
      "execution_count": 6,
      "outputs": [
        {
          "output_type": "stream",
          "name": "stdout",
          "text": [
            "a is greater than b\n"
          ]
        }
      ]
    },
    {
      "cell_type": "code",
      "source": [
        "# Short Hand If Else\n",
        "# This technique is known as Ternary Operators, or Conditional Expressions.\n",
        "a = 2\n",
        "b = 330\n",
        "print(\"A\") if a > b else print(\"B\")"
      ],
      "metadata": {
        "colab": {
          "base_uri": "https://localhost:8080/"
        },
        "id": "k7SqNpRsT9Fm",
        "outputId": "a5c5236b-7607-4642-bb64-94d1a723232a"
      },
      "execution_count": 9,
      "outputs": [
        {
          "output_type": "stream",
          "name": "stdout",
          "text": [
            "B\n"
          ]
        }
      ]
    },
    {
      "cell_type": "code",
      "source": [
        "# One line if else statement, with 3 conditions:\n",
        "a = 330\n",
        "b = 330\n",
        "print(\"A\") if a > b else print(\"=\") if a == b else print(\"B\")"
      ],
      "metadata": {
        "colab": {
          "base_uri": "https://localhost:8080/"
        },
        "id": "YTuPBie4UE6t",
        "outputId": "fb4fdeaf-06e9-49a1-f45d-a4b54f63a7e8"
      },
      "execution_count": 10,
      "outputs": [
        {
          "output_type": "stream",
          "name": "stdout",
          "text": [
            "=\n"
          ]
        }
      ]
    },
    {
      "cell_type": "code",
      "source": [
        "# And\n",
        "\n",
        "a = 33\n",
        "b = 44\n",
        "\n",
        "if b > a and a < b:\n",
        "    print(\"Both conditions are True\")"
      ],
      "metadata": {
        "colab": {
          "base_uri": "https://localhost:8080/"
        },
        "id": "gOFqSOdoUoCL",
        "outputId": "95ddfd95-af13-49b1-9578-d00aefbc9700"
      },
      "execution_count": 11,
      "outputs": [
        {
          "output_type": "stream",
          "name": "stdout",
          "text": [
            "Both conditions are True\n"
          ]
        }
      ]
    },
    {
      "cell_type": "code",
      "source": [
        "# Or\n",
        "\n",
        "a = 33\n",
        "b = 44\n",
        "\n",
        "if b > a or a < b:\n",
        "    print(\"At least one of the conditions is True\")"
      ],
      "metadata": {
        "colab": {
          "base_uri": "https://localhost:8080/"
        },
        "id": "z-uR1umYVMYu",
        "outputId": "9b0fca4b-3df5-4e24-ba96-c745126ec142"
      },
      "execution_count": 12,
      "outputs": [
        {
          "output_type": "stream",
          "name": "stdout",
          "text": [
            "At least one of the conditions is True\n"
          ]
        }
      ]
    },
    {
      "cell_type": "code",
      "source": [
        "# Not\n",
        "\n",
        "a = 33\n",
        "b = 44\n",
        "\n",
        "if not a > b:\n",
        "    print(\"a is NOT greater than b\")"
      ],
      "metadata": {
        "colab": {
          "base_uri": "https://localhost:8080/"
        },
        "id": "4Ye_WQ1IVRFW",
        "outputId": "0a4e91e0-bc8c-43c8-95d7-d756c957b038"
      },
      "execution_count": 13,
      "outputs": [
        {
          "output_type": "stream",
          "name": "stdout",
          "text": [
            "a is NOT greater than b\n"
          ]
        }
      ]
    },
    {
      "cell_type": "code",
      "source": [
        "# Nested If\n",
        "\n",
        "x = 41\n",
        "\n",
        "if x > 10:\n",
        "  print(\"Above ten,\")\n",
        "  if x > 20:\n",
        "    print(\"and also above 20!\")\n",
        "  else:\n",
        "    print(\"but not above 20.\")"
      ],
      "metadata": {
        "colab": {
          "base_uri": "https://localhost:8080/"
        },
        "id": "SaK6rU9_VZ1I",
        "outputId": "0d11ff2f-0ce5-45a9-a488-b8a067ab8395"
      },
      "execution_count": 14,
      "outputs": [
        {
          "output_type": "stream",
          "name": "stdout",
          "text": [
            "Above ten,\n",
            "and also above 20!\n"
          ]
        }
      ]
    },
    {
      "cell_type": "code",
      "source": [
        "# Pass Statement\n",
        "\n",
        "a = 33\n",
        "b = 200\n",
        "\n",
        "if b > a:\n",
        "  pass"
      ],
      "metadata": {
        "id": "ibxS1cjnVnbD"
      },
      "execution_count": 15,
      "outputs": []
    },
    {
      "cell_type": "code",
      "source": [],
      "metadata": {
        "id": "GJ6vtnxTVx4T"
      },
      "execution_count": null,
      "outputs": []
    }
  ]
}